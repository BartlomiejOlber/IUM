{
 "cells": [
  {
   "cell_type": "code",
   "execution_count": 21,
   "metadata": {},
   "outputs": [
    {
     "name": "stdout",
     "output_type": "stream",
     "text": [
      "W kontekście naszego zadania interesują nas pliki sessions.json i products.json\n",
      "Deliveries.json nie dotyczy naszego zadania, natomiast users.json ma poprawne rekordy\n"
     ]
    }
   ],
   "source": [
    "import pandas as pd\n",
    "import matplotlib.pyplot as plt\n",
    "print(\"W kontekście naszego zadania interesują nas pliki sessions.json i products.json\")\n",
    "print(\"Deliveries.json nie dotyczy naszego zadania, natomiast users.json ma poprawne rekordy\")"
   ]
  },
  {
   "cell_type": "code",
   "execution_count": 22,
   "metadata": {},
   "outputs": [
    {
     "name": "stdout",
     "output_type": "stream",
     "text": [
      "Przed czyszczeniem: 319 produktów\n",
      "Po czyszczeniu: 303 produktów\n"
     ]
    }
   ],
   "source": [
    "MAX_PRICE = 1000000\n",
    "products = pd.read_json(\"data/products.jsonl\", lines=True)\n",
    "print(f\"Przed czyszczeniem: {products.shape[0]} produktów\")\n",
    "products.loc[products[\"price\"] < 0, \"price\"] *= -1 # niektóre produkty mają ujemną cenę\n",
    "products = products[products[\"price\"] < MAX_PRICE] # niektóre produkty mają nieprawdopodobnie wysoką cenę, powyżej miliona\n",
    "products[\"category_path\"] = products[\"category_path\"].str.rsplit(';', n=1, expand=True)[1] # skracamy ścieżkę kategorii\n",
    "products.rename(columns={\"category_path\": \"category\"}, inplace=True)\n",
    "products.to_json(\"data/products_clean.jsonl\", orient='records', lines=True)\n",
    "print(f\"Po czyszczeniu: {products.shape[0]} produktów\")\n"
   ]
  },
  {
   "cell_type": "code",
   "execution_count": 23,
   "metadata": {},
   "outputs": [
    {
     "name": "stdout",
     "output_type": "stream",
     "text": [
      "Przed czyszczeniem: 113754 sesji\n",
      "Najpierw uzupełniamy wartości nullowe klucza product_id w zdarzeniach zakupu\n",
      "Przed zakupem produktu najpierw klient ogląda produkt, można więc uzupełnić product_id wartością zdarzenia powyżej\n",
      "Gdybyśmy usuwali rekordy z wartościami nullowymi w zdarzeniach zakupu 176 sesji, które zakończyły się powodzeniem, zostałoby niepoprawnie uznane za nieudane\n",
      "Zostało usuniętych w całości -20 udanych sesji.\n",
      "Po czyszczeniu: 103593 sesji\n"
     ]
    }
   ],
   "source": [
    "sessions = pd.read_json(\"data/sessions.jsonl\", lines=True)\n",
    "products = pd.read_json(\"data/products_clean.jsonl\", lines=True)\n",
    "bought = sessions[sessions[\"event_type\"] == \"BUY_PRODUCT\"]\n",
    "bought_before = bought.shape[0]\n",
    "print(f\"Przed czyszczeniem: {sessions.shape[0]} sesji\")\n",
    "print(\"Najpierw uzupełniamy wartości nullowe klucza product_id w zdarzeniach zakupu\")\n",
    "print(\"Przed zakupem produktu najpierw klient ogląda produkt, można więc uzupełnić product_id wartością zdarzenia powyżej\")\n",
    "print(\"Gdybyśmy usuwali rekordy z wartościami nullowymi w zdarzeniach zakupu 176 sesji, które zakończyły się powodzeniem, zostałoby niepoprawnie uznane za nieudane\")\n",
    "bought_unknown_product = (sessions[\"event_type\"] == \"BUY_PRODUCT\") & (sessions[\"product_id\"].isnull())\n",
    "sessions_to_drop = sessions[bought_unknown_product.shift(-1).fillna(False)]\n",
    "sessions_to_drop = sessions_to_drop[sessions_to_drop[\"product_id\"].isnull()]\n",
    "sessions = sessions[~sessions[\"session_id\"].isin(sessions_to_drop[\"session_id\"])]\n",
    "bought_unknown_product = (sessions[\"event_type\"] == \"BUY_PRODUCT\") & (sessions[\"product_id\"].isnull())\n",
    "filled_sessions = sessions[bought_unknown_product | bought_unknown_product.shift(-1).fillna(False)][\"product_id\"].fillna(method=\"ffill\")\n",
    "sessions.loc[filled_sessions.index, \"product_id\"] = filled_sessions\n",
    "bought = sessions[sessions[\"event_type\"] == \"BUY_PRODUCT\"]\n",
    "bought_after = bought.shape[0]\n",
    "print(f\"Zostało usuniętych w całości {bought_after - bought_before} udanych sesji.\")\n",
    "# uzupełnione\n",
    "sessions = sessions[sessions[\"product_id\"].isin(products[\"product_id\"])] # zostawiamy tylko wpisy o produktach które znamy\n",
    "\n",
    "sessions = pd.merge(sessions, products[['product_id','category']],on='product_id', how='left') # dodajemy kolumnę z kategorią\n",
    "sessions = sessions.fillna({\"user_id\": sessions.groupby(\"session_id\")[\"user_id\"].transform('median')}) # uzupełniamy nullowe user_id które możemy\n",
    "sessions[\"user_id\"].fillna(method=\"ffill\", inplace=True) \n",
    "# uzupełniamy nullowe wartości zamiast wyrzucać te rekordy; metoda uzupełnienia wartością rekordu wyżej będzie w\n",
    "# znakomitej większości uzupełniać poprawnie user_id; jedyna sytuacja brzegowa w której potencjalnie (p=0.5) się pomyli\n",
    "# ma bardzo małe prawdopodobieństo wystąpienia, dotyczy zera lub pojedynczych rekordów i dodatkowo dotyczy tylko eventów\n",
    "# VIEW_PRODUCT więc spokojnie można tak uzupełniać\n",
    "print(f\"Po czyszczeniu: {sessions.shape[0]} sesji\")\n",
    "sessions = sessions.astype({'user_id': 'Int64', 'product_id': 'int32', 'purchase_id': \"Int64\"}, errors='ignore')\n",
    "sessions.to_json(\"data/sessions_clean.jsonl\", orient='records', lines=True)"
   ]
  },
  {
   "cell_type": "code",
   "execution_count": 24,
   "metadata": {},
   "outputs": [
    {
     "name": "stdout",
     "output_type": "stream",
     "text": [
      "5386\n"
     ]
    },
    {
     "data": {
      "text/plain": "<Figure size 432x288 with 1 Axes>",
      "image/png": "[encoded data removed]"
     },
     "metadata": {
      "needs_background": "light"
     },
     "output_type": "display_data"
    }
   ],
   "source": [
    "# pierwotnie próby analizy dotyczyły klasyfikowania niepewności klientów na podstawie ilości wyświeleń produktów w jednej sesji\n",
    "# po konsultacjach porzuciliśmy tę ścieżkę, oto jedna z dziewięciu komórek w tej ścieżce :)\n",
    "bought = sessions[sessions[\"event_type\"] == \"BUY_PRODUCT\"]\n",
    "print(bought.shape[0])\n",
    "views = sessions[sessions[\"event_type\"] == \"VIEW_PRODUCT\"]\n",
    "successful_sessions = sessions[sessions[\"session_id\"].isin(bought[\"session_id\"])]\n",
    "unsuccessful_sessions = sessions[~sessions[\"session_id\"].isin(bought[\"session_id\"])]\n",
    "successful_views_count = successful_sessions.groupby(\"session_id\")[\"user_id\"].agg('count') - 1\n",
    "unsuccessful_views_count = unsuccessful_sessions.groupby(\"session_id\")[\"user_id\"].agg('count')\n",
    "\n",
    "plt.figure()\n",
    "_ = plt.hist(successful_views_count.values, density=True, bins=11)\n",
    "plt.show()\n",
    "# widać nieregularny rozkład długości trwania sesji, który dalej udało nam się również wyjaśnić"
   ]
  },
  {
   "cell_type": "code",
   "execution_count": 25,
   "metadata": {},
   "outputs": [
    {
     "name": "stdout",
     "output_type": "stream",
     "text": [
      "Procent sukcesów ze zniżką: 29.46\n",
      "Procent sukcesów bez zniżki: 29.75\n",
      "Widzimy, że zniżka trochę działa\n"
     ]
    }
   ],
   "source": [
    "bought_with_discount = bought[bought[\"offered_discount\"] != 0]\n",
    "successful_sessions_with_discount = sessions[sessions[\"session_id\"].isin(bought_with_discount[\"session_id\"])]\n",
    "sessions_without_discount = sessions[sessions[\"offered_discount\"] == 0]\n",
    "sessions_with_discount = sessions[sessions[\"offered_discount\"] != 0]\n",
    "successful_sessions_without_discount = sessions_without_discount[sessions_without_discount[\"session_id\"].isin(bought[\"session_id\"])]\n",
    "percentage_successful_with_discount =  successful_sessions_with_discount.shape[0] / sessions_with_discount.shape[0] * 100\n",
    "percentage_successful_without_discount = successful_sessions_without_discount.shape[0] / sessions_without_discount.shape[0] * 100\n",
    "print(f\"Procent sukcesów ze zniżką: {percentage_successful_with_discount:.2f}\")\n",
    "print(f\"Procent sukcesów bez zniżki: {percentage_successful_without_discount:.2f}\")\n",
    "print(\"Widzimy, że zniżka trochę działa\")\n"
   ]
  },
  {
   "cell_type": "code",
   "execution_count": 26,
   "metadata": {},
   "outputs": [
    {
     "name": "stdout",
     "output_type": "stream",
     "text": [
      "Procent sukcesów ze zniżką 0-procentową: 29.75\n",
      "Procent sukcesów ze zniżką 5-procentową: 29.97\n",
      "Procent sukcesów ze zniżką 10-procentową: 28.18\n",
      "Procent sukcesów ze zniżką 15-procentową: 29.23\n",
      "Procent sukcesów ze zniżką 20-procentową: 30.45\n",
      "Istotna jest również wysokość zniżki\n"
     ]
    }
   ],
   "source": [
    "import numpy as np\n",
    "for i in np.arange(0,21,5):\n",
    "    bought_with_discount_i = bought[bought[\"offered_discount\"] == i]\n",
    "    sessions_with_discount_i = sessions[sessions[\"offered_discount\"] == i]\n",
    "    successful_sessions_with_discount_i = sessions[sessions[\"session_id\"].isin(bought_with_discount_i[\"session_id\"])]\n",
    "    percentage_successful_with_discount_i = successful_sessions_with_discount_i.shape[0] / sessions_with_discount_i.shape[0] * 100\n",
    "    print(f\"Procent sukcesów ze zniżką {i}-procentową: {percentage_successful_with_discount_i:.2f}\")\n",
    "    \n",
    "print(\"Istotna jest również wysokość zniżki\")    "
   ]
  },
  {
   "cell_type": "code",
   "execution_count": 27,
   "metadata": {},
   "outputs": [
    {
     "name": "stdout",
     "output_type": "stream",
     "text": [
      "196\n",
      "196\n"
     ]
    },
    {
     "data": {
      "text/plain": "<Figure size 432x288 with 1 Axes>",
      "image/png": "[encoded data removed]"
     },
     "metadata": {
      "needs_background": "light"
     },
     "output_type": "display_data"
    },
    {
     "name": "stdout",
     "output_type": "stream",
     "text": [
      "Histogram procentowy udanych sesji bez zniżek i ze zniżką\n",
      "Wnioskujemy, że klienci są skłonni do dokonywania zakupów z różną częstotliwością i będzie możliwe na podstawie       historii zakupów estymować szansę na zakończenie sesji zakupem\n",
      "Zauważalny jest także pozytywny wpływ zniżki na częstotliwość zakupów u części klientów - tego dotyczy nasze zadanie\n"
     ]
    }
   ],
   "source": [
    "successful_sessions_without_discount_by_user = successful_sessions_without_discount.groupby(\"user_id\")[\"session_id\"].nunique()\n",
    "successful_sessions_with_discount_by_user = successful_sessions_with_discount.groupby(\"user_id\")[\"session_id\"].nunique()\n",
    "sessions_with_discount_only_valid_users = sessions_with_discount[sessions_with_discount[\"user_id\"].isin(successful_sessions_with_discount[\"user_id\"])]\n",
    "sessions_without_discount_only_valid_users = sessions_without_discount[sessions_without_discount[\"user_id\"].isin(successful_sessions_without_discount[\"user_id\"])]\n",
    "sessions_without_discount_by_user = sessions_without_discount_only_valid_users.groupby(\"user_id\")[\"session_id\"].nunique()\n",
    "sessions_with_discount_by_user = sessions_with_discount_only_valid_users.groupby(\"user_id\")[\"session_id\"].nunique()\n",
    "\n",
    "print(len(successful_sessions_without_discount_by_user.values))\n",
    "print(len(sessions_without_discount_by_user.values))\n",
    "percentage_successful_sessions_without_discount_by_user = successful_sessions_without_discount_by_user / (sessions_without_discount_by_user) * 100\n",
    "percentage_successful_sessions_with_discount_by_user = successful_sessions_with_discount_by_user / (sessions_with_discount_by_user) * 100\n",
    "\n",
    "\n",
    "plt.figure()\n",
    "_ = plt.hist(percentage_successful_sessions_with_discount_by_user, alpha=0.5, label='with')\n",
    "_ = plt.hist(percentage_successful_sessions_without_discount_by_user, alpha=0.5, label='without')\n",
    "plt.legend(loc='upper right')\n",
    "plt.show()\n",
    "print(\"Histogram procentowy udanych sesji bez zniżek i ze zniżką\")\n",
    "print(\"Wnioskujemy, że klienci są skłonni do dokonywania zakupów z różną częstotliwością i będzie możliwe na podstawie \\\n",
    "      historii zakupów estymować szansę na zakończenie sesji zakupem\")\n",
    "print(\"Zauważalny jest także pozytywny wpływ zniżki na częstotliwość zakupów u części klientów - tego dotyczy nasze zadanie\")\n"
   ]
  },
  {
   "cell_type": "code",
   "execution_count": 28,
   "metadata": {},
   "outputs": [
    {
     "data": {
      "text/plain": "<Figure size 432x288 with 1 Axes>",
      "image/png": "[encoded data removed]"
     },
     "metadata": {
      "needs_background": "light"
     },
     "output_type": "display_data"
    },
    {
     "name": "stdout",
     "output_type": "stream",
     "text": [
      "Histogram różnicy pomiędzy częstotliwością zakupów ze zniżką i bez zniżki w punktach procentowych    względem każdego użytkownika\n",
      "Wygląda na to, że wpływ zniżki na zachowania użytkowników jest generowany z rozkładem normalnym\n",
      "Zakładamy że uda się na podstawie tych danych estymować ów wpływ\n"
     ]
    }
   ],
   "source": [
    "difference = percentage_successful_sessions_with_discount_by_user - percentage_successful_sessions_without_discount_by_user\n",
    "difference.dropna(inplace=True)\n",
    "plt.figure()\n",
    "_ = plt.hist(difference)\n",
    "plt.show()\n",
    "print(\"Histogram różnicy pomiędzy częstotliwością zakupów ze zniżką i bez zniżki w punktach procentowych\\\n",
    "    względem każdego użytkownika\")\n",
    "print(\"Wygląda na to, że wpływ zniżki na zachowania użytkowników jest generowany z rozkładem normalnym\")\n",
    "print(\"Zakładamy że uda się na podstawie tych danych estymować ów wpływ\")"
   ]
  },
  {
   "cell_type": "code",
   "execution_count": 29,
   "metadata": {},
   "outputs": [
    {
     "data": {
      "text/plain": "<Figure size 432x288 with 1 Axes>",
      "image/png": "[encoded data removed]"
     },
     "metadata": {
      "needs_background": "light"
     },
     "output_type": "display_data"
    },
    {
     "data": {
      "text/plain": "<Figure size 432x288 with 1 Axes>",
      "image/png": "[encoded data removed]"
     },
     "metadata": {
      "needs_background": "light"
     },
     "output_type": "display_data"
    },
    {
     "data": {
      "text/plain": "<Figure size 432x288 with 1 Axes>",
      "image/png": "[encoded data removed]"
     },
     "metadata": {
      "needs_background": "light"
     },
     "output_type": "display_data"
    },
    {
     "data": {
      "text/plain": "<Figure size 432x288 with 1 Axes>",
      "image/png": "[encoded data removed]"
     },
     "metadata": {
      "needs_background": "light"
     },
     "output_type": "display_data"
    },
    {
     "data": {
      "text/plain": "<Figure size 432x288 with 1 Axes>",
      "image/png": "[encoded data removed]"
     },
     "metadata": {
      "needs_background": "light"
     },
     "output_type": "display_data"
    },
    {
     "name": "stdout",
     "output_type": "stream",
     "text": [
      "Histogramy przedstawiające różnicę w częstotliwości zakupów z i bez danej zniżki\n",
      "Istotnie dla każdej wartości zniżki wpływ zniżki ma nieco inny rozkład\n",
      "Im wyższa zniżka tym bardziej i częściej zauważalny jest pozytywny jej wpływ na zachowania klientów\n"
     ]
    }
   ],
   "source": [
    "for i in np.arange(0,21,5):\n",
    "    \n",
    "    sessions_with_discount_i = sessions[sessions[\"offered_discount\"] == i]\n",
    "    successful_sessions_with_discount_i = sessions_with_discount_i[sessions_with_discount_i[\"session_id\"].isin(bought[\"session_id\"])]\n",
    "    successful_sessions_with_discount_i_by_user = successful_sessions_with_discount_i.groupby(\"user_id\")[\"session_id\"].nunique()\n",
    "    sessions_with_discount_i_only_valid_users = sessions_with_discount_i[sessions_with_discount_i[\"user_id\"].isin(successful_sessions_with_discount_i[\"user_id\"])]\n",
    "    sessions_with_discount_i_by_user = sessions_with_discount_i_only_valid_users.groupby(\"user_id\")[\"session_id\"].nunique()\n",
    "\n",
    "    sessions_without_discount_i = sessions[~sessions[\"session_id\"].isin(sessions_with_discount_i[\"session_id\"])]\n",
    "    sessions_without_discount_i_by_user = sessions_without_discount_i.groupby(\"user_id\")[\"session_id\"].nunique()\n",
    "    successful_sessions_without_discount_i = sessions_without_discount_i[sessions_without_discount_i[\"session_id\"].isin(bought[\"session_id\"])]\n",
    "    successful_sessions_without_discount_i_by_user = successful_sessions_without_discount_i.groupby(\"user_id\")[\"session_id\"].nunique()\n",
    "    \n",
    "    percentage_successful_sessions_with_discount_i_by_user = successful_sessions_with_discount_i_by_user / (sessions_with_discount_i_by_user) * 100\n",
    "    percentage_successful_sessions_without_discount_i_by_user = successful_sessions_without_discount_i_by_user / (sessions_without_discount_i_by_user) * 100\n",
    "    difference_i = percentage_successful_sessions_with_discount_i_by_user - percentage_successful_sessions_without_discount_i_by_user\n",
    "    difference_i.dropna(inplace=True)\n",
    "    plt.figure()\n",
    "    _ = plt.hist(difference_i, label=f\"{i}-percent discount\")\n",
    "    plt.legend()\n",
    "    plt.show()\n",
    "\n",
    "print(\"Histogramy przedstawiające różnicę w częstotliwości zakupów z i bez danej zniżki\")    \n",
    "print(\"Istotnie dla każdej wartości zniżki wpływ zniżki ma nieco inny rozkład\")\n",
    "print(\"Im wyższa zniżka tym bardziej i częściej zauważalny jest pozytywny jej wpływ na zachowania klientów\")"
   ]
  },
  {
   "cell_type": "code",
   "execution_count": 30,
   "metadata": {},
   "outputs": [
    {
     "name": "stdout",
     "output_type": "stream",
     "text": [
      " Tyle zakupów dokonali klienci: 5386\n",
      " Suma zakupów różnych produktów dla wszystkich klientów: 2038\n",
      "Klienci kupują te same produkty i to często\n"
     ]
    }
   ],
   "source": [
    "bought_by_user_id = bought.groupby(\"user_id\")[\"product_id\"].agg(\"count\")\n",
    "bought_by_user_id_unique = bought.groupby(\"user_id\")[\"product_id\"].nunique()\n",
    "\n",
    "print(f\" Tyle zakupów dokonali klienci: {sum(bought_by_user_id.values)}\")\n",
    "print(f\" Suma zakupów różnych produktów dla wszystkich klientów: {sum(bought_by_user_id_unique.values)}\")\n",
    "\n",
    "print(\"Klienci kupują te same produkty i to często\")"
   ]
  },
  {
   "cell_type": "code",
   "execution_count": 31,
   "metadata": {},
   "outputs": [
    {
     "name": "stdout",
     "output_type": "stream",
     "text": [
      " Tyle zakupów dokonali klienci: 5386\n",
      " Suma zakupów różnych kategorii dla wszystkich klientów: 2038\n",
      "Zdziwiła nas ta sama suma względem kategorii co względem produktów\n"
     ]
    }
   ],
   "source": [
    "bought_by_user_category = bought.groupby(\"user_id\")[\"category\"].agg(\"count\")\n",
    "bought_by_user_category_ = bought.groupby(\"user_id\")[\"category\"].nunique()\n",
    "\n",
    "print(f\" Tyle zakupów dokonali klienci: {sum(bought_by_user_category.values)}\")\n",
    "print(f\" Suma zakupów różnych kategorii dla wszystkich klientów: {sum(bought_by_user_category_.values)}\")\n",
    "print(\"Zdziwiła nas ta sama suma względem kategorii co względem produktów\")"
   ]
  },
  {
   "cell_type": "code",
   "execution_count": 32,
   "metadata": {},
   "outputs": [
    {
     "name": "stdout",
     "output_type": "stream",
     "text": [
      "[ True  True  True  True  True  True  True  True  True  True  True  True\n",
      "  True  True  True  True  True  True  True  True  True  True  True  True\n",
      "  True  True  True  True  True  True  True  True  True  True  True  True\n",
      "  True  True  True  True  True  True  True  True  True  True  True  True\n",
      "  True  True  True  True  True  True  True  True  True  True  True  True\n",
      "  True  True  True  True  True  True  True  True  True  True  True  True\n",
      "  True  True  True  True  True  True  True  True  True  True  True  True\n",
      "  True  True  True  True  True  True  True  True  True  True  True  True\n",
      "  True  True  True  True  True  True  True  True  True  True  True  True\n",
      "  True  True  True  True  True  True  True  True  True  True  True  True\n",
      "  True  True  True  True  True  True  True  True  True  True  True  True\n",
      "  True  True  True  True  True  True  True  True  True  True  True  True\n",
      "  True  True  True  True  True  True  True  True  True  True  True  True\n",
      "  True  True  True  True  True  True  True  True  True  True  True  True\n",
      "  True  True  True  True  True  True  True  True  True  True  True  True\n",
      "  True  True  True  True  True  True  True  True  True  True  True  True\n",
      "  True  True  True  True  True  True]\n",
      "Oznacza to, że klient zawsze kupuje ten sam produkt z danej kategorii - nieco dziwne :)\n"
     ]
    }
   ],
   "source": [
    "print(bought_by_user_id_unique.values == bought_by_user_category_.values)\n",
    "print(\"Oznacza to, że klient zawsze kupuje ten sam produkt z danej kategorii - nieco dziwne :)\")"
   ]
  },
  {
   "cell_type": "code",
   "execution_count": 33,
   "metadata": {},
   "outputs": [
    {
     "name": "stdout",
     "output_type": "stream",
     "text": [
      "category\n",
      "Anteny RTV               395\n",
      "Gry PlayStation3         424\n",
      "Gry Xbox 360             440\n",
      "Gry komputerowe          414\n",
      "Monitory LCD             421\n",
      "Odtwarzacze DVD          409\n",
      "Odtwarzacze mp3 i mp4    401\n",
      "Okulary 3D               415\n",
      "Słuchawki                428\n",
      "Tablety                  415\n",
      "Telefony komórkowe       412\n",
      "Telefony stacjonarne     403\n",
      "Zestawy głośnomówiące    409\n",
      "Name: session_id, dtype: int64\n",
      "category\n",
      "Anteny RTV               395\n",
      "Gry PlayStation3         424\n",
      "Gry Xbox 360             440\n",
      "Gry komputerowe          414\n",
      "Monitory LCD             421\n",
      "Odtwarzacze DVD          409\n",
      "Odtwarzacze mp3 i mp4    401\n",
      "Okulary 3D               415\n",
      "Słuchawki                428\n",
      "Tablety                  415\n",
      "Telefony komórkowe       412\n",
      "Telefony stacjonarne     403\n",
      "Zestawy głośnomówiące    409\n",
      "Name: session_id, dtype: int64\n",
      "5386\n",
      "5386\n",
      "Tutaj jeszcze jedno potwierdzenie wniosków z poprzedniej komórki\n",
      "Widać też że ilość sesji (tym samym zakupów) dla danej kategorii produktów jest generowana zrozkładem jednostajnym (domyślamy się, że \"na rozpoczęciu sesji\" po prostu jest losowana kategoria produktów,które będzie oglądać klient)\n"
     ]
    }
   ],
   "source": [
    "bought_by_category = bought.groupby(\"category\")[\"session_id\"].agg(\"count\")\n",
    "bought_by_category_ = bought.groupby(\"category\")[\"session_id\"].nunique()\n",
    "print(bought_by_category)\n",
    "print(bought_by_category_)\n",
    "print(sum(bought_by_category.values))\n",
    "print(sum(bought_by_category_.values))\n",
    "print(\"Tutaj jeszcze jedno potwierdzenie wniosków z poprzedniej komórki\")\n",
    "print(\"Widać też że ilość sesji (tym samym zakupów) dla danej kategorii produktów jest generowana z\\\n",
    "rozkładem jednostajnym (domyślamy się, że \\\"na rozpoczęciu sesji\\\" po prostu jest losowana kategoria produktów,\\\n",
    "które będzie oglądać klient)\")\n"
   ]
  },
  {
   "cell_type": "code",
   "execution_count": 34,
   "metadata": {},
   "outputs": [
    {
     "name": "stdout",
     "output_type": "stream",
     "text": [
      "category\n",
      "Anteny RTV                            30\n",
      "Biurowe urządzenia wielofunkcyjne      8\n",
      "Gry PlayStation3                       9\n",
      "Gry Xbox 360                          32\n",
      "Gry komputerowe                      188\n",
      "Monitory LCD                          17\n",
      "Odtwarzacze DVD                        2\n",
      "Odtwarzacze mp3 i mp4                  2\n",
      "Okulary 3D                             1\n",
      "Słuchawki                              1\n",
      "Tablety                                2\n",
      "Telefony komórkowe                     2\n",
      "Telefony stacjonarne                   1\n",
      "Zestawy głośnomówiące                  5\n",
      "Zestawy słuchawkowe                    3\n",
      "Name: product_id, dtype: int64\n",
      "Ilość sesji dla każdej kategorii jest podobna mimo, że ilość produktów w danej kategorii jest znacznie różna \n",
      "Tym samym, a także obserwacji, że klient w jednej sesji ogląda produkty tylko jednej kategorii    wyjaśniliśmy rozkład długości trwania sesji z komórki [4] - gdy wylosowana jest dla sesji kategoria o liczności produktów    mniejszej od 10, klient przegląda w sesji wszystkie produkty danej kategorii\n",
      "Istotny jest również fakt, że zawsze schemat sesji dla wszystkich klientów jest taki sam\n",
      "Wszyscy klienci zawsze przeglądają produkty w rosnącym porządku względem product_id\n",
      "Kolejnym wynikającym z tego faktem jest to, że zawsze jest kupowany ten sam produkt z danej kategorii\n",
      "Jeśli model, który będziemy tworzyć miałby działać w środowisku z klientami zachowującymi się w taki sam sposób    bezsensowne byłoby rozpatrywanie jakichkolwiek produktów poza tymi o największym product_id w danej kategorii (dla kategorii    o wielu produktach, czyli >10, klienci kupują ten o najwyższym product_id spośród oglądanych, a oglądają 10 produktów    o najniższym product_id), bo    inne i tak nie są nigdy kupowane\n",
      "Wobec tych wniosków niepotrzebne okazało się oczyszczanie produktów z [1]-ej komórki, bo interesuje nas tylko    15 produktów (liczba kategorii).\n"
     ]
    }
   ],
   "source": [
    "users = pd.read_json(\"data/users.jsonl\", lines=True)\n",
    "products = pd.read_json(\"data/products_clean.jsonl\", lines=True)\n",
    "products_categories_count = products.groupby(\"category\")[\"product_id\"].agg('count')\n",
    "print(products_categories_count)\n",
    "\n",
    "print(\"Ilość sesji dla każdej kategorii jest podobna mimo, że ilość produktów w danej kategorii jest znacznie różna \")\n",
    "print(\"Tym samym, a także obserwacji, że klient w jednej sesji ogląda produkty tylko jednej kategorii\\\n",
    "    wyjaśniliśmy rozkład długości trwania sesji z komórki [4] - gdy wylosowana jest dla sesji kategoria o liczności produktów\\\n",
    "    mniejszej od 10, klient przegląda w sesji wszystkie produkty danej kategorii\")\n",
    "print(\"Istotny jest również fakt, że zawsze schemat sesji dla wszystkich klientów jest taki sam\")\n",
    "print(\"Wszyscy klienci zawsze przeglądają produkty w rosnącym porządku względem product_id\")\n",
    "print(\"Kolejnym wynikającym z tego faktem jest to, że zawsze jest kupowany ten sam produkt z danej kategorii\")\n",
    "print(\"Jeśli model, który będziemy tworzyć miałby działać w środowisku z klientami zachowującymi się w taki sam sposób\\\n",
    "    bezsensowne byłoby rozpatrywanie jakichkolwiek produktów poza tymi o największym product_id w danej kategorii (dla kategorii\\\n",
    "    o wielu produktach, czyli >10, klienci kupują ten o najwyższym product_id spośród oglądanych, a oglądają 10 produktów\\\n",
    "    o najniższym product_id), bo\\\n",
    "    inne i tak nie są nigdy kupowane\")\n",
    "print(f\"Wobec tych wniosków niepotrzebne okazało się oczyszczanie produktów z [1]-ej komórki, bo interesuje nas tylko\\\n",
    "    {len(products_categories_count)} produktów (liczba kategorii).\")"
   ]
  },
  {
   "cell_type": "code",
   "execution_count": 35,
   "metadata": {},
   "outputs": [],
   "source": [
    "# komórki niżej dodane po recenzji"
   ]
  },
  {
   "cell_type": "code",
   "execution_count": 36,
   "metadata": {},
   "outputs": [
    {
     "data": {
      "text/plain": "<Figure size 432x288 with 1 Axes>",
      "image/png": "[encoded data removed]"
     },
     "metadata": {
      "needs_background": "light"
     },
     "output_type": "display_data"
    }
   ],
   "source": [
    "## odległość czasowa w timestampach lub sesja\n",
    "intervals = []\n",
    "for user in bought.groupby(\"user_id\"):\n",
    "    li = user[1][\"session_id\"].values\n",
    "    for i in range(1, len(li)):\n",
    "        intervals.append(li[i] - li[i-1])\n",
    "plt.figure()\n",
    "_ = plt.hist(intervals, label=f\"number of sessions between a buy event\", bins=range(1, 15, 1))\n",
    "plt.legend()\n",
    "plt.xlim(xmax = 15)\n",
    "plt.show()\n",
    "        "
   ]
  },
  {
   "cell_type": "code",
   "execution_count": 37,
   "metadata": {},
   "outputs": [
    {
     "data": {
      "text/plain": "<Figure size 432x288 with 1 Axes>",
      "image/png": "[encoded data removed]"
     },
     "metadata": {
      "needs_background": "light"
     },
     "output_type": "display_data"
    }
   ],
   "source": [
    "\n",
    "intervals = []\n",
    "for user in bought.sort_values(['user_id','timestamp']).groupby(\"user_id\"):\n",
    "    li = user[1][\"timestamp\"].values\n",
    "    for i in range(1, len(li)):\n",
    "        intervals.append(int((li[i] - li[i-1]) / np.timedelta64(1, 'm')))\n",
    "\n",
    "plt.figure()\n",
    "_ = plt.hist(intervals, label=f\"minutes between buy events\", bins=range(0, 40000, 100))\n",
    "plt.legend()\n",
    "plt.xlim(xmax = 20000)\n",
    "plt.show()\n",
    "        "
   ]
  },
  {
   "cell_type": "code",
   "execution_count": 38,
   "metadata": {},
   "outputs": [],
   "source": [
    "# odległość czasowa to nie będzie dobry atrybut, szczególnie w timestampach; \n",
    "# własność braku pamięci najwyraźniej zachowana"
   ]
  },
  {
   "cell_type": "code",
   "execution_count": 39,
   "metadata": {},
   "outputs": [],
   "source": [
    "views = views.groupby(\"session_id\").last().reset_index()"
   ]
  },
  {
   "cell_type": "code",
   "execution_count": 40,
   "metadata": {},
   "outputs": [
    {
     "data": {
      "text/plain": "<Figure size 1100x800 with 0 Axes>"
     },
     "metadata": {},
     "output_type": "display_data"
    },
    {
     "data": {
      "text/plain": "<Figure size 360x360 with 1 Axes>",
      "image/png": "[encoded data removed]"
     },
     "metadata": {
      "needs_background": "light"
     },
     "output_type": "display_data"
    }
   ],
   "source": [
    "# częstość (ew. też ilość) zakupów tego produktu/produktów tej kategorii\n",
    "\n",
    "\n",
    "\n",
    "\n",
    "df = pd.DataFrame({'user_id': pd.Series([], dtype='str'),\n",
    "                                        'category' : pd.Series([], dtype='str'),\n",
    "                                        'frequency' : pd.Series([], dtype='float')})\n",
    "for user in bought.groupby([\"user_id\"])[\"user_id\"].unique():\n",
    "\n",
    "    \n",
    "    for category in bought.groupby([\"category\"])[\"category\"].unique():\n",
    "        numBoughtCategory = bought.loc[bought[\"user_id\"] == user[0]].loc[bought[\"category\"] == category[0]].count()\n",
    "        numViewedCategory = views.loc[views[\"user_id\"] == user[0]].loc[views[\"category\"] == category[0]].count()\n",
    "        frequency = numBoughtCategory / numViewedCategory        \n",
    "#         if  0. <= frequency.mean() <= 100:\n",
    "        df = df.append(pd.DataFrame(data={'user_id': user[0], 'category': category[0], 'frequency': frequency}))\n",
    "    \n",
    "\n",
    "\n",
    "import seaborn as sns\n",
    "plt.figure(figsize=(11,8), dpi= 100)\n",
    "ax = sns.catplot(x=\"category\",y=\"frequency\",kind=\"box\", data=df)\n",
    "plt.xticks(\n",
    "    rotation=45, \n",
    "    horizontalalignment='right',\n",
    "    fontweight='light',\n",
    "    fontsize='small'  \n",
    ")\n",
    "plt.tight_layout()\n",
    "plt.show()\n",
    "\n"
   ]
  },
  {
   "cell_type": "code",
   "execution_count": 41,
   "metadata": {},
   "outputs": [
    {
     "data": {
      "text/plain": "<Figure size 432x288 with 1 Axes>",
      "image/png": "[encoded data removed]"
     },
     "metadata": {
      "needs_background": "light"
     },
     "output_type": "display_data"
    },
    {
     "name": "stdout",
     "output_type": "stream",
     "text": [
      "                       frequency\n",
      "category                        \n",
      "Anteny RTV              0.336437\n",
      "Gry PlayStation3        0.356866\n",
      "Gry Xbox 360            0.348295\n",
      "Gry komputerowe         0.335366\n",
      "Monitory LCD            0.332227\n",
      "Odtwarzacze DVD         0.313984\n",
      "Odtwarzacze mp3 i mp4   0.324086\n",
      "Okulary 3D              0.365287\n",
      "Słuchawki               0.349705\n",
      "Tablety                 0.332406\n",
      "Telefony komórkowe      0.339644\n",
      "Telefony stacjonarne    0.344010\n",
      "Zestawy głośnomówiące   0.330093\n"
     ]
    }
   ],
   "source": [
    "\n",
    "user_cat_freq = df.groupby([\"user_id\", \"category\"]).first()\n",
    "user_cat_freq = user_cat_freq[user_cat_freq[\"frequency\"] > 0 ]\n",
    "user_cat_freq = user_cat_freq[user_cat_freq[\"frequency\"] < 1 ]\n",
    "plt.figure()\n",
    "_ = plt.hist(user_cat_freq.groupby(\"user_id\").mean().values, label=\"buying frequency by user\")\n",
    "plt.legend()\n",
    "plt.show()\n",
    "\n",
    "print(user_cat_freq.groupby(\"category\").mean())"
   ]
  },
  {
   "cell_type": "code",
   "execution_count": 42,
   "metadata": {},
   "outputs": [],
   "source": [
    "# nie wygląda do końca na jednostajny rozkład; bardziej informatywnego atrybutu dla modelu oceniającego jaka jest\n",
    "# szansa na zakup danego produktu niż historia jego zachowań względem tej kategorii produktów nie umiemy znaleźć"
   ]
  },
  {
   "cell_type": "code",
   "execution_count": 42,
   "metadata": {},
   "outputs": [],
   "source": []
  }
 ],
 "metadata": {
  "kernelspec": {
   "display_name": "Python 3",
   "language": "python",
   "name": "python3"
  },
  "language_info": {
   "codemirror_mode": {
    "name": "ipython",
    "version": 3
   },
   "file_extension": ".py",
   "mimetype": "text/x-python",
   "name": "python",
   "nbconvert_exporter": "python",
   "pygments_lexer": "ipython3",
   "version": "3.6.9"
  }
 },
 "nbformat": 4,
 "nbformat_minor": 4
}