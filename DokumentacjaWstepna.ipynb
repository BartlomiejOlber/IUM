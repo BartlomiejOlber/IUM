{
 "cells": [
  {
   "cell_type": "markdown",
   "id": "brazilian-electricity",
   "metadata": {},
   "source": [
    "# IUM projekt - Zniżki dla klientów\n",
    "\n",
    "## Zadanie\n",
    "- Zinterpretować: “Niektórzy  klienci  nie  mogą  zdecydować  się  na zakup oglądając  produkt  na  stronie – ale pewnie  gdybyśmy  wiedzieli,  które  to  są  osoby,  to odpowiednia zniżka  skłoniłaby ich do zakupu.\"  \n",
    "- Analiza danych.  \n",
    "- Doprecyzowanie, przeanalizowanie problemu i wdrozenie aplikacji bazującej na mikroserwisach.  \n",
    "\n",
    "## Problem biznesowy\n",
    "Stworzenie systemu, który umożliwi zaproponowanie klientom niezdecydowanym, zniżki takiej, która zachęci ich do zakupu, ale równocześnie bedzie jak najmniejsza.  \n",
    "Istnieje kilka interpretacji zadania:  \n",
    "1. Model ma klasyfikować czy klient jest niezdecydowany.\n",
    "2. Model ma klasyfikować czy klient jest niezdecydowany i wyznaczać optymalną (pod względem zysku i/lub szans na zakup) wartość zniżki.\n",
    "3. Model ma wyznaczać najmniejszą wartośc zniżki, z którą dany klient kupi (wg. przewidywań modelu) dany produkt.\n",
    "4. Przewidywać, po ilu wyświetlonych produktach klient, będzie chciał kupić produkt.  \n",
    "\n",
    "Na podstawie analizy danych i naszej oceny możliwości realizacji zadania zakładamy interpretację nr.3.\n",
    "\n",
    "## Zadanie modelowania\n",
    "Jest to zadanie klasyfikacji. Model na podstawie historii sesji danego klienta będzie będzie przewidywać, czy klient kupi dany produkt, gdy będzie mu zaproponowana dana wartość zniżki. \n",
    "\n",
    "## Założenia\n",
    "* Będziemy się poruszać w dotychczasowej polityce przyznawania zniżek tj. będziemy brać pod uwagę zniżki {5, 10, 15, 20}-procentowe oraz brak zniżki.\n",
    "* Odpowiedna zniżka to taka, która zachęci klienta do zakupu, przy czym musi ona przynieść jak najwiekszy zysk firmie. To znaczy, że znajdujemy najniższą, możliwą zniżkę dla której model przewidzi, że klient dokona zakupu. W przypadku, gdy model nie przewidzi zakupu dla żadnej z wartości (prawdopodobieństwo zakupu dla danej zniżki przewidziane według modelu będzie mniejsze niż 50%), klientowi nie będzie proponowana zniżka.\n",
    "* Nie jesteśmy ekspertami ds. marketingu i zachowań konsumenckich, tworzymy model jedynie w oparciu o wiedzę dot. klientów z otrzymanych danych, nie zakładamy też radykalnej zmiany sposobu realizacji zakupów przez klientów, więc naszym celem jest przede wszystkim stworzyć model proponujący odpowiednie zniżki dla klientów zachowujących się tak jak dotychczasowi klienci firmy \"eSzoppping\". Zamierzamy więc w doborze cech do zbiorów uczących i testowych kierować się znalezionymi podczas analizy danych zależnościami (lub ich brakiem). W szczególności, uważamy, że jeśli wytrenowany model będzie dla zdecydowanej większości produktów proponował brak zniżki, to będzie to zachowanie poprawnie, ponieważ z dostępnych danych wynika, że klienci kupują tylko jeden rodzaj produktu z danej kategorii - zawsze ten sam.\n",
    "* Będziemy na zbiorze testowym sprawdzać czy dobrze przewidzieliśmy, że klient dokona zakupu. To znaczy, że sprawdzamy historie klienta i jeżeli wyświetlał produkty a przy danej zniżce i dokonał zakupu, to oznacza, że nasz model również powinien to przewidzieć.\n",
    "* Zakładamy, że testów online nie będziemy mogli przeprowadzić, ewaluacja modelu będzie przeprowadzona na części otrzymanych danych.\n",
    "* Podczas ewaluacji na przygotowanym zbiorze danych jeśli klient zakupi produkt po zniżce większej niż proponowana przez model, nie będziemy uznawać takiej predykcji za trafną; jeśli zakupi po zniżce mniejszej niż proponowana, będzie to predykcja trafna.\n",
    "\n",
    "## Kryteria sukcesu\n",
    "- Stworzenie systemu, który przyniesie jak największy zysk firmie.  \n",
    "Składa się na to zmotywowanie do zakupu jak największej ilości klientów, przy możliwie niskich oferowanych zniżkach.  \n",
    "- Chcemy zatem, żeby nasz model miał jak największy stosunek *liczby zdarzeń zakupu gdy została zaoferowana zniżka* do *sumy wartości oferowanych zniżek*. Na potrzeby ewaluacji modelu w sytuacji, gdy klient kupi artykuł\n",
    "- Podstawową metodą oceny modelu klasyfikacji jest sprawdzenie jaki jest jego wskaźnik *accuracy*, który informuje nas jak często nasz model dokonuje dobrych predykcji. Chcemy aby ten wskaźnik był jak największy.\n",
    "- Po za tym nasz model powinien mieć jak najwyższy wskaźnik *precision*, który będzie sugerował, że nasz model nie będzie przyznawać niepotrzebnie zniżek osobom, które i tak dokonałyby zakupu.\n",
    "\n"
   ]
  },
  {
   "cell_type": "code",
   "execution_count": 1,
   "id": "corresponding-cheese",
   "metadata": {},
   "outputs": [],
   "source": [
    "%matplotlib inline\n",
    "import matplotlib.pyplot as plt\n",
    "import seaborn as sns\n",
    "import random\n",
    "import numpy as np\n",
    "import pandas as pd"
   ]
  },
  {
   "cell_type": "markdown",
   "id": "interim-logan",
   "metadata": {},
   "source": [
    "## Wykonujemy czyszczenie danych\n",
    "Procedura opisana w pliku clean_data.ipynb"
   ]
  },
  {
   "cell_type": "code",
   "execution_count": 2,
   "id": "statistical-quebec",
   "metadata": {},
   "outputs": [
    {
     "name": "stdout",
     "output_type": "stream",
     "text": [
      "<class 'pandas.core.frame.DataFrame'>\n",
      "RangeIndex: 319 entries, 0 to 318\n",
      "Data columns (total 4 columns):\n",
      " #   Column         Non-Null Count  Dtype  \n",
      "---  ------         --------------  -----  \n",
      " 0   product_id     319 non-null    int64  \n",
      " 1   product_name   319 non-null    object \n",
      " 2   category_path  319 non-null    object \n",
      " 3   price          319 non-null    float64\n",
      "dtypes: float64(1), int64(1), object(2)\n",
      "memory usage: 10.1+ KB\n",
      "<class 'pandas.core.frame.DataFrame'>\n",
      "RangeIndex: 308 entries, 0 to 307\n",
      "Data columns (total 4 columns):\n",
      " #   Column        Non-Null Count  Dtype  \n",
      "---  ------        --------------  -----  \n",
      " 0   product_id    308 non-null    int64  \n",
      " 1   product_name  308 non-null    object \n",
      " 2   category      308 non-null    object \n",
      " 3   price         308 non-null    float64\n",
      "dtypes: float64(1), int64(1), object(2)\n",
      "memory usage: 9.8+ KB\n"
     ]
    }
   ],
   "source": [
    "products = pd.read_json(path_or_buf='data/products.jsonl', lines=True)\n",
    "products.info()\n",
    "\n",
    "products_clean = pd.read_json(path_or_buf='data/products_clean.jsonl', lines=True)\n",
    "products_clean.info()\n",
    "\n",
    "products = products_clean"
   ]
  },
  {
   "cell_type": "code",
   "execution_count": 3,
   "id": "inappropriate-daughter",
   "metadata": {},
   "outputs": [
    {
     "name": "stdout",
     "output_type": "stream",
     "text": [
      "<class 'pandas.core.frame.DataFrame'>\n",
      "RangeIndex: 56883 entries, 0 to 56882\n",
      "Data columns (total 7 columns):\n",
      " #   Column            Non-Null Count  Dtype         \n",
      "---  ------            --------------  -----         \n",
      " 0   session_id        56883 non-null  int64         \n",
      " 1   timestamp         56883 non-null  datetime64[ns]\n",
      " 2   user_id           54075 non-null  float64       \n",
      " 3   product_id        54048 non-null  float64       \n",
      " 4   event_type        56883 non-null  object        \n",
      " 5   offered_discount  56883 non-null  int64         \n",
      " 6   purchase_id       3117 non-null   float64       \n",
      "dtypes: datetime64[ns](1), float64(3), int64(2), object(1)\n",
      "memory usage: 3.0+ MB\n",
      "<class 'pandas.core.frame.DataFrame'>\n",
      "RangeIndex: 53468 entries, 0 to 53467\n",
      "Data columns (total 8 columns):\n",
      " #   Column            Non-Null Count  Dtype         \n",
      "---  ------            --------------  -----         \n",
      " 0   session_id        53468 non-null  int64         \n",
      " 1   timestamp         53468 non-null  datetime64[ns]\n",
      " 2   user_id           53467 non-null  float64       \n",
      " 3   product_id        53468 non-null  int64         \n",
      " 4   event_type        53468 non-null  object        \n",
      " 5   offered_discount  53468 non-null  int64         \n",
      " 6   purchase_id       3103 non-null   float64       \n",
      " 7   category          53468 non-null  object        \n",
      "dtypes: datetime64[ns](1), float64(2), int64(3), object(2)\n",
      "memory usage: 3.3+ MB\n"
     ]
    }
   ],
   "source": [
    "sessions = pd.read_json(path_or_buf='data/sessions.jsonl', lines=True)\n",
    "sessions.info()\n",
    "\n",
    "sessions_clean = pd.read_json(path_or_buf='data/sessions_clean.jsonl', lines=True)\n",
    "sessions_clean.info()\n",
    "\n",
    "sessions = sessions_clean"
   ]
  },
  {
   "cell_type": "markdown",
   "id": "packed-token",
   "metadata": {},
   "source": [
    "### Najważniejsze obserwacje:\n",
    "- niektóre produkty mają ujemną cenę, więc można założyć, że wystarczy ją zanegować\n",
    "- niektóre produkty mają nieprawdopodobnie wysoką cenę, powyżej miliona, zakładamy, więc że cena jest niepoprawna i usuwamy ten wiersz\n",
    "- długa ścieżka kategori wynika z hierarchii strony web, wiec skracamy ścieżkę kategorii\n",
    "- przed zakupem produktu najpierw klient ogląda produkt, można więc uzupełnić product_id wartością zdarzenia powyżej. Gdybyśmy usuwali rekordy z wartościami nullowymi w zdarzeniach zakupu 176 sesji, które zakończyły się powodzeniem, zostałoby niepoprawnie uznane za nieudane.\n",
    "- zostawiamy tylko wpisy o produktach które znamy\n",
    "- metoda uzupełnienia wartością rekordu wyżej będzie w znakomitej większości uzupełniać poprawnie user_id. Jedyna sytuacja brzegowa w której potencjalnie (p=0.5) się pomyli ma bardzo małe prawdopodobieństo wystąpienia, dotyczy zera lub pojedynczych rekordów i dodatkowo dotyczy tylko eventów VIEW_PRODUCT więc spokojnie można tak uzupełniać."
   ]
  },
  {
   "cell_type": "markdown",
   "id": "rubber-member",
   "metadata": {},
   "source": [
    "## Wykonujemy analizę danych\n",
    "Część wniosków z analizy przeprowadzonej w pliku clean_data.ipynb.\n",
    "\n",
    "Na początku próbowaliśmy zinterpretować zadanie w sposób nr.1 i nr.4 - czyli łączyć niezdecydowanie klientów z długością trwania sesji rozumianą jako liczba zdarzeń. Po wstępnej analizie danych dało się już zauważyć pewne problemy tych podejść, a po konsultacjach z \"szefem\" porzuciliśmy tę drogę. Zdecydowaliśmy się, więc do podjęcia się interpretacji nr.3."
   ]
  },
  {
   "cell_type": "code",
   "execution_count": 4,
   "id": "nuclear-accounting",
   "metadata": {},
   "outputs": [
    {
     "name": "stdout",
     "output_type": "stream",
     "text": [
      " Tyle zakupów dokonali klienci: 3103\n",
      " Suma zakupów różnych produktów dla wszystkich klientów: 1748\n",
      " \n",
      "Tyle zakupów dokonali klienci: 3103\n",
      " Suma zakupów różnych kategorii dla wszystkich klientów: 1748\n"
     ]
    }
   ],
   "source": [
    "bought = sessions[sessions[\"event_type\"] == \"BUY_PRODUCT\"]\n",
    "successful_sessions = sessions[sessions[\"session_id\"].isin(bought[\"session_id\"])]\n",
    "\n",
    "\n",
    "bought_with_discount = bought[bought[\"offered_discount\"] != 0]\n",
    "successful_sessions_with_discount = sessions[sessions[\"session_id\"].isin(bought_with_discount[\"session_id\"])]\n",
    "sessions_without_discount = sessions[sessions[\"offered_discount\"] == 0]\n",
    "sessions_with_discount = sessions[sessions[\"offered_discount\"] != 0]\n",
    "successful_sessions_without_discount = sessions_without_discount[sessions_without_discount[\"session_id\"].isin(bought[\"session_id\"])]\n",
    "percentage_successful_with_discount =  successful_sessions_with_discount.shape[0] / sessions_with_discount.shape[0] * 100\n",
    "percentage_successful_without_discount = successful_sessions_without_discount.shape[0] / sessions_without_discount.shape[0] * 100\n",
    "\n",
    "bought_by_user_id = bought.groupby(\"user_id\")[\"product_id\"].agg(\"count\")\n",
    "bought_by_user_id_unique = bought.groupby(\"user_id\")[\"product_id\"].nunique()\n",
    "\n",
    "print(f\" Tyle zakupów dokonali klienci: {sum(bought_by_user_id.values)}\")\n",
    "print(f\" Suma zakupów różnych produktów dla wszystkich klientów: {sum(bought_by_user_id_unique.values)}\")\n",
    "\n",
    "bought_by_user_category = bought.groupby(\"user_id\")[\"category\"].agg(\"count\")\n",
    "bought_by_user_category_ = bought.groupby(\"user_id\")[\"category\"].nunique()\n",
    "\n",
    "print(f\" \\nTyle zakupów dokonali klienci: {sum(bought_by_user_category.values)}\")\n",
    "print(f\" Suma zakupów różnych kategorii dla wszystkich klientów: {sum(bought_by_user_category_.values)}\")"
   ]
  },
  {
   "cell_type": "markdown",
   "id": "colonial-omaha",
   "metadata": {},
   "source": [
    "Klienci kupują ciągle te same produkty."
   ]
  },
  {
   "cell_type": "code",
   "execution_count": 5,
   "id": "missing-croatia",
   "metadata": {},
   "outputs": [
    {
     "name": "stdout",
     "output_type": "stream",
     "text": [
      "\n",
      "Wszystkie zakupy w danej kategorii:\n",
      "\n",
      "category\n",
      "Anteny RTV                           195\n",
      "Biurowe urządzenia wielofunkcyjne    212\n",
      "Gry PlayStation3                     219\n",
      "Gry Xbox 360                         210\n",
      "Gry komputerowe                      228\n",
      "Monitory LCD                         223\n",
      "Odtwarzacze DVD                      193\n",
      "Odtwarzacze mp3 i mp4                173\n",
      "Okulary 3D                           221\n",
      "Słuchawki                            191\n",
      "Tablety                              215\n",
      "Telefony komórkowe                   200\n",
      "Telefony stacjonarne                 223\n",
      "Zestawy głośnomówiące                194\n",
      "Zestawy słuchawkowe                  206\n",
      "Name: session_id, dtype: int64\n",
      "Suma:\n",
      "3103\n",
      "\n",
      "Powtarzające się zakupy w danej kategorii:\n",
      "\n",
      "category\n",
      "Anteny RTV                           195\n",
      "Biurowe urządzenia wielofunkcyjne    212\n",
      "Gry PlayStation3                     219\n",
      "Gry Xbox 360                         210\n",
      "Gry komputerowe                      228\n",
      "Monitory LCD                         223\n",
      "Odtwarzacze DVD                      193\n",
      "Odtwarzacze mp3 i mp4                173\n",
      "Okulary 3D                           221\n",
      "Słuchawki                            191\n",
      "Tablety                              215\n",
      "Telefony komórkowe                   200\n",
      "Telefony stacjonarne                 223\n",
      "Zestawy głośnomówiące                194\n",
      "Zestawy słuchawkowe                  206\n",
      "Name: session_id, dtype: int64\n",
      "Suma:\n",
      "3103\n"
     ]
    }
   ],
   "source": [
    "bought_by_category = bought.groupby(\"category\")[\"session_id\"].agg(\"count\")\n",
    "bought_by_category_ = bought.groupby(\"category\")[\"session_id\"].nunique()\n",
    "print(\"\\nWszystkie zakupy w danej kategorii:\\n\")\n",
    "print(bought_by_category)\n",
    "print(\"Suma:\")\n",
    "print(sum(bought_by_category.values))\n",
    "print(\"\\nPowtarzające się zakupy w danej kategorii:\\n\")\n",
    "print(bought_by_category_)\n",
    "print(\"Suma:\")\n",
    "print(sum(bought_by_category_.values))"
   ]
  },
  {
   "cell_type": "markdown",
   "id": "victorian-drain",
   "metadata": {},
   "source": [
    "Da się zauważyć, że ilość sesji (tym samym zakupów) dla danej kategorii produktów jest generowana zrozkładem jednostajnym (domyślamy się, że \"na rozpoczęciu sesji\" po prostu jest losowana kategoria produktów, które będzie oglądać klient)."
   ]
  },
  {
   "cell_type": "code",
   "execution_count": 6,
   "id": "conditional-colonial",
   "metadata": {},
   "outputs": [
    {
     "data": {
      "image/png": "[encoded data removed]",
      "text/plain": [
       "<Figure size 432x288 with 1 Axes>"
      ]
     },
     "metadata": {
      "needs_background": "light"
     },
     "output_type": "display_data"
    }
   ],
   "source": [
    "successful_sessions_without_discount_by_user = successful_sessions_without_discount.groupby(\"user_id\")[\"session_id\"].nunique()\n",
    "successful_sessions_with_discount_by_user = successful_sessions_with_discount.groupby(\"user_id\")[\"session_id\"].nunique()\n",
    "sessions_with_discount_only_valid_users = sessions_with_discount[sessions_with_discount[\"user_id\"].isin(successful_sessions_with_discount[\"user_id\"])]\n",
    "sessions_without_discount_only_valid_users = sessions_without_discount[sessions_without_discount[\"user_id\"].isin(successful_sessions_without_discount[\"user_id\"])]\n",
    "sessions_without_discount_by_user = sessions_without_discount_only_valid_users.groupby(\"user_id\")[\"session_id\"].nunique()\n",
    "sessions_with_discount_by_user = sessions_with_discount_only_valid_users.groupby(\"user_id\")[\"session_id\"].nunique()\n",
    "\n",
    "percentage_successful_sessions_without_discount_by_user = successful_sessions_without_discount_by_user / (sessions_without_discount_by_user) * 100\n",
    "percentage_successful_sessions_with_discount_by_user = successful_sessions_with_discount_by_user / (sessions_with_discount_by_user) * 100\n",
    "\n",
    "\n",
    "plt.figure()\n",
    "_ = plt.hist(percentage_successful_sessions_with_discount_by_user, alpha=0.5, label='with')\n",
    "_ = plt.hist(percentage_successful_sessions_without_discount_by_user, alpha=0.5, label='without')\n",
    "plt.legend(loc='upper right')\n",
    "plt.show()"
   ]
  },
  {
   "cell_type": "markdown",
   "id": "checked-correction",
   "metadata": {},
   "source": [
    "Okazuje się, że procentowy histogram udanych sesji bez zniżek i ze zniżką jest bardzo podobny dla sesji ze zniżka i bez zniżki."
   ]
  },
  {
   "cell_type": "code",
   "execution_count": 7,
   "id": "express-bruce",
   "metadata": {},
   "outputs": [
    {
     "data": {
      "image/png": "[encoded data removed]",
      "text/plain": [
       "<Figure size 432x288 with 1 Axes>"
      ]
     },
     "metadata": {
      "needs_background": "light"
     },
     "output_type": "display_data"
    },
    {
     "data": {
      "image/png": "[encoded data removed]",
      "text/plain": [
       "<Figure size 432x288 with 1 Axes>"
      ]
     },
     "metadata": {
      "needs_background": "light"
     },
     "output_type": "display_data"
    },
    {
     "data": {
      "image/png": "[encoded data removed]",
      "text/plain": [
       "<Figure size 432x288 with 1 Axes>"
      ]
     },
     "metadata": {
      "needs_background": "light"
     },
     "output_type": "display_data"
    },
    {
     "data": {
      "image/png": "[encoded data removed]",
      "text/plain": [
       "<Figure size 432x288 with 1 Axes>"
      ]
     },
     "metadata": {
      "needs_background": "light"
     },
     "output_type": "display_data"
    },
    {
     "data": {
      "image/png": "[encoded data removed]",
      "text/plain": [
       "<Figure size 432x288 with 1 Axes>"
      ]
     },
     "metadata": {
      "needs_background": "light"
     },
     "output_type": "display_data"
    }
   ],
   "source": [
    "for i in np.arange(0,21,5):\n",
    "    \n",
    "    sessions_with_discount_i = sessions[sessions[\"offered_discount\"] == i]\n",
    "    successful_sessions_with_discount_i = sessions_with_discount_i[sessions_with_discount_i[\"session_id\"].isin(bought[\"session_id\"])]\n",
    "    successful_sessions_with_discount_i_by_user = successful_sessions_with_discount_i.groupby(\"user_id\")[\"session_id\"].nunique()\n",
    "    sessions_with_discount_i_only_valid_users = sessions_with_discount_i[sessions_with_discount_i[\"user_id\"].isin(successful_sessions_with_discount_i[\"user_id\"])]\n",
    "    sessions_with_discount_i_by_user = sessions_with_discount_i_only_valid_users.groupby(\"user_id\")[\"session_id\"].nunique()\n",
    "\n",
    "    sessions_without_discount_i = sessions[~sessions[\"session_id\"].isin(sessions_with_discount_i[\"session_id\"])]\n",
    "    sessions_without_discount_i_by_user = sessions_without_discount_i.groupby(\"user_id\")[\"session_id\"].nunique()\n",
    "    successful_sessions_without_discount_i = sessions_without_discount_i[sessions_without_discount_i[\"session_id\"].isin(bought[\"session_id\"])]\n",
    "    successful_sessions_without_discount_i_by_user = successful_sessions_without_discount_i.groupby(\"user_id\")[\"session_id\"].nunique()\n",
    "    \n",
    "    percentage_successful_sessions_with_discount_i_by_user = successful_sessions_with_discount_i_by_user / (sessions_with_discount_i_by_user) * 100\n",
    "    percentage_successful_sessions_without_discount_i_by_user = successful_sessions_without_discount_i_by_user / (sessions_without_discount_i_by_user) * 100\n",
    "    difference_i = percentage_successful_sessions_with_discount_i_by_user - percentage_successful_sessions_without_discount_i_by_user\n",
    "    difference_i.dropna(inplace=True)\n",
    "    plt.figure()\n",
    "    _ = plt.hist(difference_i, label=f\"{i}-percent discount\")\n",
    "    plt.legend()\n",
    "    plt.show()"
   ]
  },
  {
   "cell_type": "markdown",
   "id": "healthy-locking",
   "metadata": {},
   "source": [
    "Wygenerowaliśmy też histogramy przedstawiające różnicę w częstotliwości zakupów z i bez danej zniżki. Dla każdej wartości zniżki, jej wpływ ma nieco inny rozkład. Im wyższa zniżka tym bardziej i częściej zauważalny jest pozytywny jej wpływ na zachowania klientów."
   ]
  },
  {
   "cell_type": "markdown",
   "id": "spiritual-shipping",
   "metadata": {},
   "source": [
    "## Potencjalne dane wejściowe modelu klasyfikacji\n",
    "Na podstawie analizy jesteśmy przekonani, że wszystkie dostępne informacje użyteczne do odpowiedzenia na pytanie czy klient kupi dany produkt po danej zniżce znajdują się w historii sesji rozszerzonej o kategorię produktu. Predykcje modelu będą indywidualne, oparte na zachowaniu danego klienta w przeszłości.\n",
    "Potencjalne dane wejściowe poza wysokością zniżki to:\n",
    "*częstość zakupów rozumiemy jako stosunek liczbę zakupów danego produktu/produktu tej kategorii do liczby wyświetleń tego produktu*\n",
    "- częstość (ew. też ilość) zakupów tego produktu/produktów tej kategorii\n",
    "- częstość (ew. też ilość) zakupów ogółem\n",
    "- częstość zakupów ze zniżką, bez, z wyższą/niższą niż zaproponowana zniżką ogółem i dla tego produktu\n",
    "- różnice w tych częstościach\n",
    "- odległość czasowa rozumiana jako ilość sesji lub różnica w timestampach od ostatniego zakupu\n",
    "\n",
    "Nasz model optymalizować będziemy przu użyciu funkcji Entropi Krzyżowej, stosowanej często dla modeli klasyfikacji.  \n",
    "Nie chcemy też zaszumiać modelu nieinformatywnymi atrybutami, możliwe, że niektóre z powyższych takie będą, stąd potrzebne będzie porównanie działania modelu dla różnych zestawów cech. Po analizie odrzuciliśmy szereg innych potencjalnych cech np. informacje dot. płci, adresu użytkowników, cenę produktu i wszystkie od ceny i kategorii pochodne atrybuty."
   ]
  }
 ],
 "metadata": {
  "kernelspec": {
   "display_name": "Python 3",
   "language": "python",
   "name": "python3"
  },
  "language_info": {
   "codemirror_mode": {
    "name": "ipython",
    "version": 3
   },
   "file_extension": ".py",
   "mimetype": "text/x-python",
   "name": "python",
   "nbconvert_exporter": "python",
   "pygments_lexer": "ipython3",
   "version": "3.6.9"
  }
 },
 "nbformat": 4,
 "nbformat_minor": 5
}