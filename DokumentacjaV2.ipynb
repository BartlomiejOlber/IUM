{
 "cells": [
  {
   "cell_type": "markdown",
   "id": "entertaining-mortgage",
   "metadata": {},
   "source": [
    "# IUM projekt - Zniżki dla klientów\n",
    "\n",
    "## Zadanie\n",
    "- Zinterpretować: “Niektórzy  klienci  nie  mogą  zdecydować  się  na zakup oglądając  produkt  na  stronie – ale pewnie  gdybyśmy  wiedzieli,  które  to  są  osoby,  to odpowiednia zniżka  skłoniłaby ich do zakupu.\"  \n",
    "- Analiza danych.  \n",
    "- Doprecyzowanie, przeanalizowanie problemu i wdrozenie aplikacji bazującej na mikroserwisach.  \n",
    "\n",
    "## Problem biznesowy\n",
    "Stworzenie systemu, który umożliwi zaproponowanie klientom niezdecydowanym, zniżki takiej, która zachęci ich do zakupu, ale równocześnie bedzie jak najmniejsza.  \n",
    "Istnieje kilka interpretacji zadania:  \n",
    "1. Model ma mówić czy klient jest niezdecydowany\n",
    "2. Model ma mówić czy klient jest niezdecydowany i jakoś optymalizować stawkę zniżki\n",
    "3. Model ma mówić czy opłaca się zaproponować zniżkę klientowi\n",
    "4. Model ma wyznaczać wartośc zniżki którą powinno się zaproponować każdemu klientówi na podstawie jego historii\n",
    "5. Przewidywać, po ilu wyświetlonych produktach klient, będzie chciał kupić produkt.  \n",
    "\n",
    "Zakładamy interpretację nr.4.\n",
    "\n",
    "## Zadania modelowania\n",
    "- zadanie grupowania ( grupujemy klientów, żeby wspomóc przewidywanie zniżki )\n",
    "- zadanie regresji ( znalezienie takiej znizki, która spowoduje, że klient zdecyduje się na zakup, ale firma zarobi jak najwięcej )\n",
    "\n",
    "## Założenia\n",
    "* Będziemy na zbiorze testowym sprawdzać czy dobrze przewidzieliśmy, że klient dokona zakupu. To znaczy, że sprawdzamy historie klienta i jeżeli wyświetlał produkty a przy danej zniżce i dokonał zakupu, to oznacza, że nasz model również powinien to przewidzieć.\n",
    "* Odpowiedna zniżka to taka, która zachęci klienta do zakupu. Przy czym musi ona przynieść jak najwiekszy zysk firmie. To znaczy, że znajdujemy pierwszą zniżkę dla której model przewidzi, że klient dokona zakupu.\n",
    "* Zakładamy, że testów online nie będziemy mogli przeprowadzić, ograniczymy się wiec do estymacji jakości modelu.\n",
    "\n",
    "## Kryteria sukcesu\n",
    "- Stworzenie systemu, który przyniesie jak największy zysk firmie.  \n",
    "Składa się na to zmotywowanie do zakupu jak największej ilości klientów, ale nie kosztem straty wynikającej z za dużej zniżki.  \n",
    "- Chcemy, żeby nasz model miał jak największy stosunek *liczby zaoferowanych zniżek* / *sumy oferowanych zniżek*"
   ]
  },
  {
   "cell_type": "code",
   "execution_count": null,
   "id": "artistic-administrator",
   "metadata": {},
   "outputs": [],
   "source": [
    "%matplotlib inline\n",
    "import matplotlib.pyplot as plt\n",
    "import seaborn as sns\n",
    "import random\n",
    "import numpy as np\n",
    "import pandas as pd"
   ]
  },
  {
   "cell_type": "markdown",
   "id": "greatest-inspector",
   "metadata": {},
   "source": [
    "## Wykonujemy czyszczenie danych\n",
    "Procedura opisana w pliku clean_data.ipynb"
   ]
  },
  {
   "cell_type": "code",
   "execution_count": null,
   "id": "diagnostic-verse",
   "metadata": {},
   "outputs": [],
   "source": [
    "products_clean = pd.read_json(path_or_buf='data/products_clean.jsonl', lines=True)\n",
    "products_clean.info()"
   ]
  },
  {
   "cell_type": "code",
   "execution_count": null,
   "id": "developed-notion",
   "metadata": {},
   "outputs": [],
   "source": [
    "sessions_clean = pd.read_json(path_or_buf='data/sessions_clean.jsonl', lines=True)\n",
    "sessions_clean.info()"
   ]
  },
  {
   "cell_type": "markdown",
   "id": "light-consortium",
   "metadata": {},
   "source": [
    "## Potencjalne cechy modelu klasyfikacji\n",
    "Na podstawie wyżej wypisanych danych można wnioskować, że da się z nich utworzyć cechy: \n",
    "- ile razy dany klient przegladal ten produkt\n",
    "- ile razy dany klient przegladal dana kategorie\n",
    "- ile razy dany klient w tej sesji przegladal produkty z tej kategorii,\n",
    "- ile razy znizka zachecila go do zakupu\n",
    "- ile razy kupowal cos z tej kategorii\n",
    "  \n",
    "W tym celu wymagany bedzie dostęp do historii eventów klienta oraz dostęp do jego najnowszych akcji.  \n",
    "Nasza aplikacja powinna przetworzyć i przechowywać niektóre cechy klienta, żeby poźniej sieć neuronowa mogła na podstawie nich wnioskować, jak bardzo niezdecydowany jest klient.\n",
    "Kiedy nasza aplikacja dostanie informację o nowej akcji klienta, powinna już wiedzieć jak zachowywał się w przeszłości i uwzględnić to w przewidywaniu.\n",
    "\n",
    "## Labelowanie danych\n",
    "Do uczenia naszej sieci neuronowej będziemy musieli ocenić w jakiś sposób którzy klienci byli niezdecydowani.  \n",
    "Najbardziej wymiernym sposobem byłoby dodanie do strony ankiety, w której dany klient mógłby podać jak bardzo niezdecydowany jest co do zakupu. (np. w skali od 1-6)  \n",
    "Dzięki temu nasza się uczyłaby się rozpoznawać to jak się czują faktyczni klienci i po jakimś czasie nie musielibyśmy pytać ich oto w ankiecie.  \n",
    "  \n",
    "  \n",
    "Drugą opcją jest automatyczne labelowanie dotychczasowych danych. W tym celu należało będzie utworzyć funkcję labelującą czy dany klient, na podstawie dotychczasowych danych, jest niezdecydowany czy nie. Będzie to wymagało niestety pewnej dozy heurystyki, więc nasze nasza sieć będzie się uczyć pewnego rodzaju schematu. Możnaby próbować to zredukować wprowadzając uczenie online, które będzie się douczało po wdrożeniu sieci neuronowej. \n"
   ]
  },
  {
   "cell_type": "code",
   "execution_count": null,
   "id": "dominican-capitol",
   "metadata": {},
   "outputs": [],
   "source": []
  }
 ],
 "metadata": {
  "kernelspec": {
   "display_name": "Python 3",
   "language": "python",
   "name": "python3"
  },
  "language_info": {
   "codemirror_mode": {
    "name": "ipython",
    "version": 3
   },
   "file_extension": ".py",
   "mimetype": "text/x-python",
   "name": "python",
   "nbconvert_exporter": "python",
   "pygments_lexer": "ipython3",
   "version": "3.6.9"
  }
 },
 "nbformat": 4,
 "nbformat_minor": 5
}
