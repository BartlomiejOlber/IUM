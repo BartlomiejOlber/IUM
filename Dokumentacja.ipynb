{
 "cells": [
  {
   "cell_type": "markdown",
   "id": "greatest-ballet",
   "metadata": {},
   "source": [
    "# IUM projekt - Zniżki dla klientów\n",
    "\n",
    "## Zadanie\n",
    "- Zinterpretować: “Niektórzy  klienci  nie  mogą  zdecydować  się  na zakup oglądając  produkt  na  stronie – ale pewnie  gdybyśmy  wiedzieli,  które  to  są  osoby,  to odpowiednia zniżka  skłoniłaby ich do zakupu.\"  \n",
    "- Analiza danych.  \n",
    "- Doprecyzowanie, przeanalizowanie problemu i wdrozenie aplikacji bazującej na mikroserwisach.  \n",
    "\n",
    "## Problem biznesowy\n",
    "Stworzenie systemu, który umożliwi zaproponowanie klientom niezdecydowanym, zniżki takiej, która zachęci ich do zakupu, ale równocześnie bedzie jak najmniejsza.  \n",
    "Istnieje kilka interpretacji zadania:  \n",
    "1. Model ma mówić czy klient jest niezdecydowany\n",
    "2. Model ma mówić czy klient jest niezdecydowany i jakoś optymalizować stawkę zniżki\n",
    "3. Model ma mówić czy opłaca się zaproponować zniżkę klientowi\n",
    "4. Model ma wyznaczać wartośc zniżki którą powinno się zaproponować każdemu klientówi na podstawie jego historii\n",
    "5. Przewidywać, po ilu wyświetlonych produktach klient, będzie chciał kupić produkt.  \n",
    "\n",
    "Zakładamy interpretację nr.4.\n",
    "\n",
    "## Zadania modelowania\n",
    "- zadanie grupowania ( grupujemy klientów, żeby wspomóc przewidywanie zniżki )\n",
    "- zadanie regresji ( znalezienie takiej znizki, która spowoduje, że klient zdecyduje się na zakup, ale firma zarobi jak najwięcej )\n",
    "\n",
    "## Założenia\n",
    "* Będziemy na zbiorze testowym sprawdzać czy dobrze przewidzieliśmy, że klient dokona zakupu. To znaczy, że sprawdzamy historie klienta i jeżeli wyświetlał produkty a przy danej zniżce i dokonał zakupu, to oznacza, że nasz model również powinien to przewidzieć.\n",
    "* Odpowiedna zniżka to taka, która zachęci klienta do zakupu. Przy czym musi ona przynieść jak najwiekszy zysk firmie. To znaczy, że znajdujemy pierwszą zniżkę dla której model przewidzi, że klient dokona zakupu.\n",
    "* Zakładamy, że testów online nie będziemy mogli przeprowadzić, ograniczymy się wiec do estymacji jakości modelu.\n",
    "\n",
    "## Kryteria sukcesu\n",
    "- Stworzenie systemu, który przyniesie jak największy zysk firmie.  \n",
    "Składa się na to zmotywowanie do zakupu jak największej ilości klientów, ale nie kosztem straty wynikającej z za dużej zniżki.  \n",
    "- Chcemy, żeby nasz model miał jak największy stosunek *liczby zaoferowanych zniżek* / *sumy oferowanych zniżek*\n",
    "\n"
   ]
  },
  {
   "cell_type": "markdown",
   "id": "african-insured",
   "metadata": {},
   "source": [
    "## Poniżej wstępna analiza danych"
   ]
  },
  {
   "cell_type": "code",
   "execution_count": 1,
   "id": "hungarian-landscape",
   "metadata": {},
   "outputs": [],
   "source": [
    "%matplotlib inline\n",
    "import matplotlib.pyplot as plt\n",
    "import seaborn as sns\n",
    "import random\n",
    "import numpy as np\n",
    "import pandas as pd"
   ]
  },
  {
   "cell_type": "code",
   "execution_count": 2,
   "id": "rocky-reading",
   "metadata": {},
   "outputs": [
    {
     "name": "stdout",
     "output_type": "stream",
     "text": [
      "<class 'pandas.core.frame.DataFrame'>\n",
      "RangeIndex: 200 entries, 0 to 199\n",
      "Data columns (total 4 columns):\n",
      " #   Column   Non-Null Count  Dtype \n",
      "---  ------   --------------  ----- \n",
      " 0   user_id  200 non-null    int64 \n",
      " 1   name     200 non-null    object\n",
      " 2   city     200 non-null    object\n",
      " 3   street   200 non-null    object\n",
      "dtypes: int64(1), object(3)\n",
      "memory usage: 6.4+ KB\n"
     ]
    }
   ],
   "source": [
    "users = pd.read_json(path_or_buf='data/users.jsonl', lines=True)\n",
    "users.info()"
   ]
  },
  {
   "cell_type": "code",
   "execution_count": 3,
   "id": "contemporary-swing",
   "metadata": {},
   "outputs": [
    {
     "name": "stdout",
     "output_type": "stream",
     "text": [
      "<class 'pandas.core.frame.DataFrame'>\n",
      "RangeIndex: 3117 entries, 0 to 3116\n",
      "Data columns (total 4 columns):\n",
      " #   Column              Non-Null Count  Dtype  \n",
      "---  ------              --------------  -----  \n",
      " 0   purchase_id         3117 non-null   int64  \n",
      " 1   purchase_timestamp  3117 non-null   object \n",
      " 2   delivery_timestamp  2962 non-null   object \n",
      " 3   delivery_company    2963 non-null   float64\n",
      "dtypes: float64(1), int64(1), object(2)\n",
      "memory usage: 97.5+ KB\n"
     ]
    }
   ],
   "source": [
    "deliveries = pd.read_json(path_or_buf='data/deliveries.jsonl', lines=True)\n",
    "deliveries.info()"
   ]
  },
  {
   "cell_type": "code",
   "execution_count": 4,
   "id": "arctic-replica",
   "metadata": {},
   "outputs": [
    {
     "name": "stdout",
     "output_type": "stream",
     "text": [
      "<class 'pandas.core.frame.DataFrame'>\n",
      "RangeIndex: 56883 entries, 0 to 56882\n",
      "Data columns (total 7 columns):\n",
      " #   Column            Non-Null Count  Dtype         \n",
      "---  ------            --------------  -----         \n",
      " 0   session_id        56883 non-null  int64         \n",
      " 1   timestamp         56883 non-null  datetime64[ns]\n",
      " 2   user_id           54075 non-null  float64       \n",
      " 3   product_id        54048 non-null  float64       \n",
      " 4   event_type        56883 non-null  object        \n",
      " 5   offered_discount  56883 non-null  int64         \n",
      " 6   purchase_id       3117 non-null   float64       \n",
      "dtypes: datetime64[ns](1), float64(3), int64(2), object(1)\n",
      "memory usage: 3.0+ MB\n"
     ]
    }
   ],
   "source": [
    "sessions = pd.read_json(path_or_buf='data/sessions.jsonl', lines=True)\n",
    "sessions.info()"
   ]
  },
  {
   "cell_type": "markdown",
   "id": "latin-tourism",
   "metadata": {},
   "source": [
    "    \n",
    "\"RangeIndex: 56883 entries, 0 to 56882  \n",
    "6   purchase_id       3117 non-null   float64 \"  \n",
    "  \n",
    "purchase_id jest związane z zakupem więc występuje czesto jako null, gdy tylko wyświetlamy"
   ]
  },
  {
   "cell_type": "code",
   "execution_count": 5,
   "id": "pretty-popularity",
   "metadata": {},
   "outputs": [
    {
     "name": "stdout",
     "output_type": "stream",
     "text": [
      "<class 'pandas.core.frame.DataFrame'>\n",
      "RangeIndex: 319 entries, 0 to 318\n",
      "Data columns (total 4 columns):\n",
      " #   Column         Non-Null Count  Dtype  \n",
      "---  ------         --------------  -----  \n",
      " 0   product_id     319 non-null    int64  \n",
      " 1   product_name   319 non-null    object \n",
      " 2   category_path  319 non-null    object \n",
      " 3   price          319 non-null    float64\n",
      "dtypes: float64(1), int64(1), object(2)\n",
      "memory usage: 10.1+ KB\n"
     ]
    }
   ],
   "source": [
    "products = pd.read_json(path_or_buf='data/products.jsonl', lines=True)\n",
    "products.info()"
   ]
  },
  {
   "cell_type": "markdown",
   "id": "attractive-pickup",
   "metadata": {},
   "source": [
    "## Wykonujemy czyszczenie danych\n",
    "Procedura opisana w pliku clean_data.ipynb"
   ]
  },
  {
   "cell_type": "code",
   "execution_count": 8,
   "id": "tested-holocaust",
   "metadata": {},
   "outputs": [
    {
     "name": "stdout",
     "output_type": "stream",
     "text": [
      "<class 'pandas.core.frame.DataFrame'>\n",
      "RangeIndex: 308 entries, 0 to 307\n",
      "Data columns (total 4 columns):\n",
      " #   Column        Non-Null Count  Dtype  \n",
      "---  ------        --------------  -----  \n",
      " 0   product_id    308 non-null    int64  \n",
      " 1   product_name  308 non-null    object \n",
      " 2   category      308 non-null    object \n",
      " 3   price         308 non-null    float64\n",
      "dtypes: float64(1), int64(1), object(2)\n",
      "memory usage: 9.8+ KB\n"
     ]
    }
   ],
   "source": [
    "products_clean = pd.read_json(path_or_buf='data/products_clean.jsonl', lines=True)\n",
    "products_clean.info()"
   ]
  },
  {
   "cell_type": "code",
   "execution_count": 9,
   "id": "incorporate-opinion",
   "metadata": {},
   "outputs": [
    {
     "name": "stdout",
     "output_type": "stream",
     "text": [
      "<class 'pandas.core.frame.DataFrame'>\n",
      "RangeIndex: 53278 entries, 0 to 53277\n",
      "Data columns (total 7 columns):\n",
      " #   Column            Non-Null Count  Dtype         \n",
      "---  ------            --------------  -----         \n",
      " 0   session_id        53278 non-null  int64         \n",
      " 1   timestamp         53278 non-null  datetime64[ns]\n",
      " 2   user_id           53278 non-null  int64         \n",
      " 3   product_id        53278 non-null  int64         \n",
      " 4   event_type        53278 non-null  object        \n",
      " 5   offered_discount  53278 non-null  int64         \n",
      " 6   purchase_id       2937 non-null   float64       \n",
      "dtypes: datetime64[ns](1), float64(1), int64(4), object(1)\n",
      "memory usage: 2.8+ MB\n"
     ]
    }
   ],
   "source": [
    "sessions_clean = pd.read_json(path_or_buf='data/sessions_clean.jsonl', lines=True)\n",
    "sessions_clean.info()"
   ]
  },
  {
   "cell_type": "markdown",
   "id": "electric-cholesterol",
   "metadata": {},
   "source": [
    "## Tworzymy tabelę zawierającą ważne informację\n",
    "Chcemy wykorzystać potencjalnie najbardziej wnoszące informację dla naszego problemu dane jako podstawę do tworzenia cech modelu.  \n",
    "Dane w pliku deliveries odnoszą się do dostaw produktu więc nic nie wnoszą do określenia czy klient jest niezdecydowany.  \n",
    "Dane w pliku users opisują klienta dokładniej, lecz są to dane demograficzne więc mało wnoszą do naszego problemu."
   ]
  },
  {
   "cell_type": "code",
   "execution_count": 13,
   "id": "danish-pressing",
   "metadata": {},
   "outputs": [
    {
     "name": "stdout",
     "output_type": "stream",
     "text": [
      "<class 'pandas.core.frame.DataFrame'>\n",
      "Int64Index: 53278 entries, 0 to 53277\n",
      "Data columns (total 8 columns):\n",
      " #   Column            Non-Null Count  Dtype         \n",
      "---  ------            --------------  -----         \n",
      " 0   session_id        53278 non-null  int64         \n",
      " 1   timestamp         53278 non-null  datetime64[ns]\n",
      " 2   user_id           53278 non-null  int64         \n",
      " 3   product_id        53278 non-null  int64         \n",
      " 4   event_type        53278 non-null  object        \n",
      " 5   offered_discount  53278 non-null  int64         \n",
      " 6   category          53278 non-null  object        \n",
      " 7   price             53278 non-null  float64       \n",
      "dtypes: datetime64[ns](1), float64(1), int64(4), object(2)\n",
      "memory usage: 3.7+ MB\n"
     ]
    }
   ],
   "source": [
    "features_products = products_clean[['product_id','category','price']].copy()\n",
    "features_sessions = sessions_clean[['session_id','timestamp','user_id','product_id','event_type','offered_discount']].copy()\n",
    "features = pd.merge(features_sessions, features_products, on='product_id')\n",
    "features.info()"
   ]
  },
  {
   "cell_type": "markdown",
   "id": "hydraulic-position",
   "metadata": {},
   "source": [
    "## Potencjalne cechy modelu klasyfikacji\n",
    "Na podstawie wyżej wypisanych danych można wnioskować, że da się z nich utworzyć cechy: \n",
    "- ile razy dany klient przegladal ten produkt\n",
    "- ile razy dany klient przegladal dana kategorie\n",
    "- ile razy dany klient w tej sesji przegladal produkty z tej kategorii,\n",
    "- ile razy znizka zachecila go do zakupu\n",
    "- ile razy kupowal cos z tej kategorii\n",
    "  \n",
    "W tym celu wymagany bedzie dostęp do historii eventów klienta oraz dostęp do jego najnowszych akcji.  \n",
    "Nasza aplikacja powinna przetworzyć i przechowywać niektóre cechy klienta, żeby poźniej sieć neuronowa mogła na podstawie nich wnioskować, jak bardzo niezdecydowany jest klient.\n",
    "Kiedy nasza aplikacja dostanie informację o nowej akcji klienta, powinna już wiedzieć jak zachowywał się w przeszłości i uwzględnić to w przewidywaniu.\n",
    "\n",
    "## Labelowanie danych\n",
    "Do uczenia naszej sieci neuronowej będziemy musieli ocenić w jakiś sposób którzy klienci byli niezdecydowani.  \n",
    "Najbardziej wymiernym sposobem byłoby dodanie do strony ankiety, w której dany klient mógłby podać jak bardzo niezdecydowany jest co do zakupu. (np. w skali od 1-6)  \n",
    "Dzięki temu nasza się uczyłaby się rozpoznawać to jak się czują faktyczni klienci i po jakimś czasie nie musielibyśmy pytać ich oto w ankiecie.  \n",
    "  \n",
    "  \n",
    "Drugą opcją jest automatyczne labelowanie dotychczasowych danych. W tym celu należało będzie utworzyć funkcję labelującą czy dany klient, na podstawie dotychczasowych danych, jest niezdecydowany czy nie. Będzie to wymagało niestety pewnej dozy heurystyki, więc nasze nasza sieć będzie się uczyć pewnego rodzaju schematu. Możnaby próbować to zredukować wprowadzając uczenie online, które będzie się douczało po wdrożeniu sieci neuronowej. \n",
    "\n",
    "## Dane potrzebne do modelu regresji\n",
    "Do przewidzenia jaką zniżkę powinien otrzymać dany klient będziemy potrzebowali wiedzieć czy nasze dotychczasowe zniżki przynoszą zysk firmie, jeżeli nie to powinniśmy dawać mniejsze zniżki. Powinniśmy, więc mieć dostęp do jakiejś statystyki przychodu firmy.  \n",
    "Przydatną informacją będzie też moment, w którym klient jest niezdecydowany, dzięki czemu jeżeli zbliżają się róznego rodzaju święta to można zwiększyć szansę na większą zniżkę.\n",
    "W tym modelu będziemy korzystać z przewidywań modelu klasyfikacji, który zwróci nam stopień niezdecydowania klienta."
   ]
  },
  {
   "cell_type": "code",
   "execution_count": null,
   "id": "consolidated-piece",
   "metadata": {},
   "outputs": [],
   "source": []
  }
 ],
 "metadata": {
  "kernelspec": {
   "display_name": "Python 3",
   "language": "python",
   "name": "python3"
  },
  "language_info": {
   "codemirror_mode": {
    "name": "ipython",
    "version": 3
   },
   "file_extension": ".py",
   "mimetype": "text/x-python",
   "name": "python",
   "nbconvert_exporter": "python",
   "pygments_lexer": "ipython3",
   "version": "3.6.9"
  }
 },
 "nbformat": 4,
 "nbformat_minor": 5
}
