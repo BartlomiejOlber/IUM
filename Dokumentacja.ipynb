{
 "cells": [
  {
   "cell_type": "markdown",
   "metadata": {},
   "source": [
    "# IUM projekt - Zniżki dla klientów\n",
    "\n",
    "## Zadanie\n",
    "- Zinterpretować: “Niektórzy  klienci  nie  mogą  zdecydować  się  na zakup oglądając  produkt  na  stronie – ale pewnie  gdybyśmy  wiedzieli,  które  to  są  osoby,  to odpowiednia zniżka  skłoniłaby ich do zakupu.\"  \n",
    "- Analiza danych.  \n",
    "- Doprecyzowanie, przeanalizowanie problemu i wdrozenie aplikacji bazującej na mikroserwisach.  \n",
    "\n",
    "## Problem biznesowy\n",
    "Stworzenie systemu, który umożliwi zaproponowanie klientom niezdecydowanym, zniżki takiej, która zachęci ich do zakupu, ale równocześnie bedzie jak najmniejsza.  \n",
    "Istnieje kilka interpretacji zadania:  \n",
    "1. Model ma mówić czy klient jest niezdecydowany\n",
    "2. Model ma mówić czy klient jest niezdecydowany i jakoś optymalizować stawkę zniżki\n",
    "3. Model ma mówić czy opłaca się zaproponować zniżkę klientowi\n",
    "4. Model ma wyznaczać wartośc zniżki którą powinno się zaproponować każdemu klientówi na podstawie jego historii\n",
    "\n",
    "## Zadania modelowania\n",
    "**Zakładając interpretację nr.2**\n",
    "- zadanie klasyfikacji ( klasyfikacja klientów w klasy o różnym stopniu niezdecydowania )\n",
    "- zadanie regresji ( znalezienie takiej znizki, która spowoduje, że klient zdecyduje się na zakup, ale firma zarobi jak najwięcej ) - do doprecyzowania, może wystarczy przypisać daną zniżkę do danej klasy\n",
    "\n",
    "## Założenia\n",
    "* Będziemy na zbiorze testowym sprawdzać czy dobrze przewidujemy, że dany klient jest niezdecydowany. To znaczy, że sprawdzamy historie klienta i jeżeli wyświetlał produkty a po zniżce dokonał zakupu, to oznacza, że był niezdecydowany.\n",
    "* Odpowiedna zniżka to taka, która zachęci klienta do zakupu. Przy czym musi ona przynieść jak najwiekszy zysk firmie.\n",
    "* Ważnym indykatorem, który może sugerować, że klient jest niezdecydowany to taki przypadek klienta, którego ostatnich 5(można zmienić) wyświetleń produktu należy do tej samej kategorii. Dodatkowo jeżeli ostatne 3 wyświetlenia dotyczą tego samego produktu to jest bardzo zainteresowany, ale nadal niezdecydowany.\n",
    "* Zakładamy, że lepiej, dać klientowi zniżkę nawet jeżeli jest zdecydowany, niż nie wykryć, że klient był niezdecydowany.\n",
    "\n",
    "## Kryteria sukcesu\n",
    "- Stworzenie systemu, który przyniesie jak największy zysk firmie.  \n",
    "Składa się na to zmotywowanie do zakupu jak największej ilości klientów, ale nie kosztem straty wynikającej z za dużej zniżki.  \n",
    "- Chcemy, żeby nasz model miał jak największy *Recall*, żeby z jak największym prawdopodobieństwem wykrywał potencjalnego niezdecydowanego.  \n",
    "- W ostatniej fazie wykonać testy online na klientach i sprawdzić czy nasz system przynosi zysk.  \n"
   ]
  },
  {
   "cell_type": "markdown",
   "metadata": {},
   "source": [
    "## Poniżej wstępna analiza danych"
   ]
  },
  {
   "cell_type": "code",
   "execution_count": 1,
   "metadata": {},
   "outputs": [],
   "source": [
    "%matplotlib inline\n",
    "import matplotlib.pyplot as plt\n",
    "import seaborn as sns\n",
    "import random\n",
    "import numpy as np\n",
    "import pandas as pd"
   ]
  },
  {
   "cell_type": "code",
   "execution_count": 2,
   "metadata": {},
   "outputs": [
    {
     "name": "stdout",
     "output_type": "stream",
     "text": [
      "<class 'pandas.core.frame.DataFrame'>\n",
      "RangeIndex: 200 entries, 0 to 199\n",
      "Data columns (total 4 columns):\n",
      " #   Column   Non-Null Count  Dtype \n",
      "---  ------   --------------  ----- \n",
      " 0   user_id  200 non-null    int64 \n",
      " 1   name     200 non-null    object\n",
      " 2   city     200 non-null    object\n",
      " 3   street   200 non-null    object\n",
      "dtypes: int64(1), object(3)\n",
      "memory usage: 6.4+ KB\n"
     ]
    }
   ],
   "source": [
    "users = pd.read_json(path_or_buf='data/users.jsonl', lines=True)\n",
    "users.info()"
   ]
  },
  {
   "cell_type": "code",
   "execution_count": 3,
   "metadata": {},
   "outputs": [
    {
     "name": "stdout",
     "output_type": "stream",
     "text": [
      "<class 'pandas.core.frame.DataFrame'>\n",
      "RangeIndex: 3117 entries, 0 to 3116\n",
      "Data columns (total 4 columns):\n",
      " #   Column              Non-Null Count  Dtype  \n",
      "---  ------              --------------  -----  \n",
      " 0   purchase_id         3117 non-null   int64  \n",
      " 1   purchase_timestamp  3117 non-null   object \n",
      " 2   delivery_timestamp  2962 non-null   object \n",
      " 3   delivery_company    2963 non-null   float64\n",
      "dtypes: float64(1), int64(1), object(2)\n",
      "memory usage: 97.5+ KB\n"
     ]
    }
   ],
   "source": [
    "deliveries = pd.read_json(path_or_buf='data/deliveries.jsonl', lines=True)\n",
    "deliveries.info()"
   ]
  },
  {
   "cell_type": "code",
   "execution_count": 4,
   "metadata": {},
   "outputs": [
    {
     "name": "stdout",
     "output_type": "stream",
     "text": [
      "<class 'pandas.core.frame.DataFrame'>\n",
      "RangeIndex: 56883 entries, 0 to 56882\n",
      "Data columns (total 7 columns):\n",
      " #   Column            Non-Null Count  Dtype         \n",
      "---  ------            --------------  -----         \n",
      " 0   session_id        56883 non-null  int64         \n",
      " 1   timestamp         56883 non-null  datetime64[ns]\n",
      " 2   user_id           54075 non-null  float64       \n",
      " 3   product_id        54048 non-null  float64       \n",
      " 4   event_type        56883 non-null  object        \n",
      " 5   offered_discount  56883 non-null  int64         \n",
      " 6   purchase_id       3117 non-null   float64       \n",
      "dtypes: datetime64[ns](1), float64(3), int64(2), object(1)\n",
      "memory usage: 3.0+ MB\n"
     ]
    }
   ],
   "source": [
    "sessions = pd.read_json(path_or_buf='data/sessions.jsonl', lines=True)\n",
    "sessions.info()"
   ]
  },
  {
   "cell_type": "markdown",
   "metadata": {},
   "source": [
    "\"RangeIndex: 56883 entries, 0 to 56882  \n",
    "6   purchase_id       3117 non-null   float64 \"  \n",
    "  \n",
    "Mamy więc dużo braków w purchase_id."
   ]
  },
  {
   "cell_type": "code",
   "execution_count": 5,
   "metadata": {},
   "outputs": [
    {
     "name": "stdout",
     "output_type": "stream",
     "text": [
      "<class 'pandas.core.frame.DataFrame'>\n",
      "RangeIndex: 319 entries, 0 to 318\n",
      "Data columns (total 4 columns):\n",
      " #   Column         Non-Null Count  Dtype  \n",
      "---  ------         --------------  -----  \n",
      " 0   product_id     319 non-null    int64  \n",
      " 1   product_name   319 non-null    object \n",
      " 2   category_path  319 non-null    object \n",
      " 3   price          319 non-null    float64\n",
      "dtypes: float64(1), int64(1), object(2)\n",
      "memory usage: 10.1+ KB\n"
     ]
    }
   ],
   "source": [
    "products = pd.read_json(path_or_buf='data/products.jsonl', lines=True)\n",
    "products.info()"
   ]
  },
  {
   "cell_type": "code",
   "execution_count": null,
   "metadata": {},
   "outputs": [],
   "source": []
  },
  {
   "cell_type": "code",
   "execution_count": null,
   "metadata": {},
   "outputs": [],
   "source": []
  },
  {
   "cell_type": "code",
   "execution_count": null,
   "metadata": {},
   "outputs": [],
   "source": []
  }
 ],
 "metadata": {
  "kernelspec": {
   "display_name": "Python 3",
   "language": "python",
   "name": "python3"
  },
  "language_info": {
   "codemirror_mode": {
    "name": "ipython",
    "version": 3
   },
   "file_extension": ".py",
   "mimetype": "text/x-python",
   "name": "python",
   "nbconvert_exporter": "python",
   "pygments_lexer": "ipython3",
   "version": "3.7.7"
  }
 },
 "nbformat": 4,
 "nbformat_minor": 5
}
