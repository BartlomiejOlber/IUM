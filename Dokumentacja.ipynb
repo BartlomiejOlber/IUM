{
 "cells": [
  {
   "cell_type": "markdown",
   "id": "outstanding-launch",
   "metadata": {},
   "source": [
    "# IUM projekt - Zniżki dla klientów\n",
    "\n",
    "## Zadanie\n",
    "Zinterpretować: “Niektórzy  klienci  nie  mogą  zdecydować  się  na zakup oglądając  produkt  na  stronie – ale pewnie  gdybyśmy  wiedzieli,  które  to  są  osoby,  to odpowiednia zniżka  skłoniłaby ich do zakupu.\"  \n",
    "Analiza danych.  \n",
    "Doprecyzowanie, przeanalizowanie problemu i wdrozenie aplikacji bazującej na mikroserwisach.  \n",
    "\n",
    "## Problem biznesowy\n",
    "Stworzenie systemu, który umożliwi zaproponowanie klientom niezdecydowanym, zniżki takiej, która zachęci ich do zakupu, ale równocześnie bedzie jak najmniejsza.\n",
    "\n",
    "## Zadania modelowania\n",
    "- zadanie klasyfikacji ( klasyfikacja klientów w klasy o różnym stopniu niezdecydowania )\n",
    "- zadanie regresji ( znalezienie takiej znizki, która spowoduje, że klient zdecyduje się na zakup, ale firma zarobi jak najwięcej ) - do doprecyzowania, może wystarczy przypisać daną zniżkę do danej klasy\n",
    "\n",
    "## Założenia\n",
    "* Będziemy na zbiorze testowym sprawdzać czy dobrze przewidujemy, że dany klient jest niezdecydowany. To znaczy, że sprawdzamy historie klienta i jeżeli wyświetlał produkty a po zniżce dokonał zakupu, to oznacza, że był niezdecydowany.\n",
    "* Odpowiedna zniżka to taka, która zachęci klienta do zakupu. Przy czym musi ona przynieść jak najwiekszy zysk firmie.\n",
    "* Ważnym indykatorem, który może sugerować, że klient jest niezdecydowany to taki przypadek klienta, którego ostatnich 5(można zmienić) wyświetleń produktu należy do tej samej kategorii. Dodatkowo jeżeli ostatne 3 wyświetlenia dotyczą tego samego produktu to jest bardzo zainteresowany, ale nadal niezdecydowany.\n",
    "* Zakładamy, że lepiej, dać klientowi zniżkę nawet jeżeli jest zdecydowany, niż nie wykryć, że klient był niezdecydowany.\n",
    "\n",
    "## Kryteria sukcesu\n",
    "Stworzenie systemu, który przyniesie jak największy zysk firmie.  \n",
    "Składa się na to zmotywowanie do zakupu jak największej ilości klientów, ale nie kosztem straty wynikającej z za dużej zniżki.  \n",
    "Chcemy, żeby nasz model miał jak największy *Recall*, żeby z jak największym prawdopodobieństwem wykrywał potencjalnego niezdecydowanego.  \n",
    "W ostatniej fazie wykonać testy online na klientach i sprawdzić czy nasz system przynosi zysk.  \n"
   ]
  },
  {
   "cell_type": "code",
   "execution_count": null,
   "id": "incomplete-player",
   "metadata": {},
   "outputs": [],
   "source": []
  }
 ],
 "metadata": {
  "kernelspec": {
   "display_name": "Python 3",
   "language": "python",
   "name": "python3"
  },
  "language_info": {
   "codemirror_mode": {
    "name": "ipython",
    "version": 3
   },
   "file_extension": ".py",
   "mimetype": "text/x-python",
   "name": "python",
   "nbconvert_exporter": "python",
   "pygments_lexer": "ipython3",
   "version": "3.6.9"
  }
 },
 "nbformat": 4,
 "nbformat_minor": 5
}
