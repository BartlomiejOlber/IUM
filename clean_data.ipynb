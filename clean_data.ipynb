{
 "cells": [
  {
   "cell_type": "code",
   "execution_count": 1,
   "metadata": {},
   "outputs": [],
   "source": [
    "import pandas as pd\n",
    "\n",
    "MAX_PRICE = 100000\n"
   ]
  },
  {
   "cell_type": "code",
   "execution_count": 6,
   "metadata": {},
   "outputs": [
    {
     "name": "stdout",
     "output_type": "stream",
     "text": [
      "319\n",
      "308\n"
     ]
    }
   ],
   "source": [
    "products = pd.read_json(\"data/products.jsonl\", lines=True)\n",
    "print(products.shape[0])\n",
    "products.loc[products[\"price\"] < 0, \"price\"] *= -1\n",
    "products = products[products[\"price\"] < MAX_PRICE]\n",
    "products[\"category_path\"] = products[\"category_path\"].str.rsplit(';', n=1, expand=True)[1]\n",
    "products.rename(columns={\"category_path\": \"category\"}, inplace=True)\n",
    "products.to_json(\"data/products_clean.jsonl\", orient='records', lines=True)\n",
    "print(products.shape[0])\n"
   ]
  },
  {
   "cell_type": "code",
   "execution_count": 5,
   "metadata": {},
   "outputs": [
    {
     "name": "stdout",
     "output_type": "stream",
     "text": [
      "56883\n",
      "53278\n"
     ]
    }
   ],
   "source": [
    "    sessions = pd.read_json(\"data/sessions.jsonl\", lines=True)\n",
    "    products = pd.read_json(\"data/products_clean.jsonl\", lines=True)\n",
    "    print(sessions.shape[0])\n",
    "    sessions = sessions[sessions[\"product_id\"].isin(products[\"product_id\"])]\n",
    "    sessions = sessions.fillna({\"user_id\": sessions.groupby(\"session_id\")[\"user_id\"].transform('min')})\n",
    "    sessions = sessions.dropna(subset=[\"user_id\"])\n",
    "    print(sessions.shape[0])\n",
    "    sessions = sessions.astype({'user_id': 'int32', 'product_id': 'int32', 'purchase_id': \"Int64\"}, errors='ignore')\n",
    "    sessions.to_json(\"data/sessions_clean.jsonl\", orient='records', lines=True)"
   ]
  },
  {
   "cell_type": "code",
   "execution_count": null,
   "metadata": {},
   "outputs": [],
   "source": []
  }
 ],
 "metadata": {
  "kernelspec": {
   "display_name": "Python 3",
   "language": "python",
   "name": "python3"
  },
  "language_info": {
   "codemirror_mode": {
    "name": "ipython",
    "version": 3
   },
   "file_extension": ".py",
   "mimetype": "text/x-python",
   "name": "python",
   "nbconvert_exporter": "python",
   "pygments_lexer": "ipython3",
   "version": "3.7.7"
  }
 },
 "nbformat": 4,
 "nbformat_minor": 4
}
