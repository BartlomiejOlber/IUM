{
 "cells": [
  {
   "cell_type": "code",
   "execution_count": 1,
   "metadata": {},
   "outputs": [],
   "source": [
    "import pandas as pd\n",
    "\n",
    "MAX_PRICE = 100000\n"
   ]
  },
  {
   "cell_type": "code",
   "execution_count": 2,
   "metadata": {},
   "outputs": [
    {
     "name": "stdout",
     "output_type": "stream",
     "text": [
      "319\n",
      "308\n"
     ]
    }
   ],
   "source": [
    "products = pd.read_json(\"data/products.jsonl\", lines=True)\n",
    "print(products.shape[0])\n",
    "products.loc[products[\"price\"] < 0, \"price\"] *= -1\n",
    "products = products[products[\"price\"] < MAX_PRICE]\n",
    "products[\"category_path\"] = products[\"category_path\"].str.rsplit(';', n=1, expand=True)[1]\n",
    "products.rename(columns={\"category_path\": \"category\"}, inplace=True)\n",
    "products.to_json(\"data/products_clean.jsonl\", orient='records', lines=True)\n",
    "print(products.shape[0])\n"
   ]
  },
  {
   "cell_type": "code",
   "execution_count": 3,
   "metadata": {},
   "outputs": [
    {
     "name": "stdout",
     "output_type": "stream",
     "text": [
      "56883\n",
      "53278\n"
     ]
    }
   ],
   "source": [
    "    sessions = pd.read_json(\"data/sessions.jsonl\", lines=True)\n",
    "    products = pd.read_json(\"data/products_clean.jsonl\", lines=True)\n",
    "    print(sessions.shape[0])\n",
    "    sessions = sessions[sessions[\"product_id\"].isin(products[\"product_id\"])]\n",
    "    sessions = sessions.fillna({\"user_id\": sessions.groupby(\"session_id\")[\"user_id\"].transform('median')})\n",
    "    sessions = sessions.dropna(subset=[\"user_id\"])\n",
    "    print(sessions.shape[0])\n",
    "    sessions = sessions.astype({'user_id': 'int32', 'product_id': 'int32', 'purchase_id': \"Int64\"}, errors='ignore')\n",
    "    sessions.to_json(\"data/sessions_clean.jsonl\", orient='records', lines=True)"
   ]
  },
  {
   "cell_type": "code",
   "execution_count": 4,
   "metadata": {},
   "outputs": [
    {
     "data": {
      "image/png": "[encoded data removed]",
      "text/plain": [
       "<Figure size 432x288 with 1 Axes>"
      ]
     },
     "metadata": {
      "needs_background": "light"
     },
     "output_type": "display_data"
    }
   ],
   "source": [
    "bought = sessions[sessions[\"event_type\"] == \"BUY_PRODUCT\"]\n",
    "views = sessions[sessions[\"event_type\"] == \"VIEW_PRODUCT\"]\n",
    "successful_sessions = sessions[sessions[\"session_id\"].isin(bought[\"session_id\"])]\n",
    "unsuccessful_sessions = sessions[~sessions[\"session_id\"].isin(bought[\"session_id\"])]\n",
    "successful_views_count = successful_sessions.groupby(\"session_id\")[\"user_id\"].agg('count') - 1\n",
    "unsuccessful_views_count = unsuccessful_sessions.groupby(\"session_id\")[\"user_id\"].agg('count')\n",
    "import matplotlib.pyplot as plt\n",
    "plt.figure()\n",
    "_ = plt.hist(successful_views_count.values, density=True, bins=11)\n",
    "plt.show()\n"
   ]
  },
  {
   "cell_type": "code",
   "execution_count": 11,
   "metadata": {},
   "outputs": [
    {
     "data": {
      "image/png": "[encoded data removed]",
      "text/plain": [
       "<Figure size 432x288 with 1 Axes>"
      ]
     },
     "metadata": {
      "needs_background": "light"
     },
     "output_type": "display_data"
    },
    {
     "name": "stdout",
     "output_type": "stream",
     "text": [
      "1183\n",
      "2937\n",
      "wyglądają podobnie niestety\n",
      "[10  1 10 ... 10  0  1]\n",
      "2937\n",
      "1183\n"
     ]
    }
   ],
   "source": [
    "bought_with_discount = bought[bought[\"offered_discount\"] != 0]\n",
    "successful_sessions_with_discount = sessions[sessions[\"session_id\"].isin(bought_with_discount[\"session_id\"])]\n",
    "successful_views_count_with_discount = successful_sessions_with_discount.groupby(\"session_id\")[\"user_id\"].agg('count') - 1\n",
    "bought_without_discount = bought[bought[\"offered_discount\"] == 0]\n",
    "successful_sessions_without_discount = sessions[sessions[\"session_id\"].isin(bought_without_discount[\"session_id\"])]\n",
    "successful_views_count_without_discount = successful_sessions_without_discount.groupby(\"session_id\")[\"user_id\"].agg('count') - 1\n",
    "plt.figure()\n",
    "_ = plt.hist(successful_views_count_with_discount.values, density=True, bins=11, alpha=0.5)\n",
    "_ = plt.hist(successful_views_count_without_discount.values, density=True, bins=11, alpha=0.5)\n",
    "plt.show()\n",
    "print(bought_with_discount.shape[0])\n",
    "print(bought.shape[0])\n",
    "print(\"wyglądają podobnie niestety\")\n",
    "print(successful_views_count_with_discount.values)\n",
    "print(len(successful_views_count.values))\n",
    "print(len(successful_views_count_with_discount.values))\n"
   ]
  },
  {
   "cell_type": "code",
   "execution_count": 6,
   "metadata": {},
   "outputs": [
    {
     "name": "stdout",
     "output_type": "stream",
     "text": [
      "0.4160708205652026\n",
      "0.41420118343195267\n",
      "no kurde nie dziala ta znizka\n"
     ]
    }
   ],
   "source": [
    "import numpy as np\n",
    "from collections import Counter\n",
    "\n",
    "percentage_undecided_with_discount = sum(map(lambda x : x > 5, successful_views_count_with_discount.values)) / len(successful_views_count_with_discount.values)\n",
    "percentage_undecided_without_discount = sum(map(lambda x : x > 5, successful_views_count.values)) / len(successful_views_count.values)\n",
    "print(percentage_undecided_without_discount)\n",
    "print(percentage_undecided_with_discount)\n",
    "print(\"no kurde nie dziala ta znizka\")"
   ]
  },
  {
   "cell_type": "code",
   "execution_count": 7,
   "metadata": {},
   "outputs": [
    {
     "data": {
      "image/png": "[encoded data removed]",
      "text/plain": [
       "<Figure size 432x288 with 1 Axes>"
      ]
     },
     "metadata": {
      "needs_background": "light"
     },
     "output_type": "display_data"
    },
    {
     "name": "stdout",
     "output_type": "stream",
     "text": [
      "2826\n",
      "7166\n",
      "2826\n"
     ]
    }
   ],
   "source": [
    "unsuccessful_sessions_with_discount = unsuccessful_sessions[unsuccessful_sessions[\"offered_discount\"] != 0]\n",
    "unsuccessful_views_count_with_discount = unsuccessful_sessions_with_discount.groupby(\"session_id\")[\"user_id\"].agg('count')\n",
    "plt.figure()\n",
    "_ = plt.hist(unsuccessful_views_count_with_discount.values, density=True, bins=10)\n",
    "plt.show()\n",
    "print(unsuccessful_views_count_with_discount.shape[0])\n",
    "print(len(unsuccessful_views_count.values))\n",
    "print(len(unsuccessful_views_count_with_discount.values))\n"
   ]
  },
  {
   "cell_type": "code",
   "execution_count": 8,
   "metadata": {},
   "outputs": [
    {
     "data": {
      "image/png": "[encoded data removed]",
      "text/plain": [
       "<Figure size 432x288 with 1 Axes>"
      ]
     },
     "metadata": {
      "needs_background": "light"
     },
     "output_type": "display_data"
    },
    {
     "name": "stdout",
     "output_type": "stream",
     "text": [
      "7166\n"
     ]
    }
   ],
   "source": [
    "import matplotlib.pyplot as plt\n",
    "plt.figure()\n",
    "_ = plt.hist(unsuccessful_views_count.values, density=True, bins=10)\n",
    "plt.show()\n",
    "print(unsuccessful_views_count.shape[0])\n",
    "\n",
    "\n"
   ]
  },
  {
   "cell_type": "code",
   "execution_count": 9,
   "metadata": {},
   "outputs": [
    {
     "name": "stdout",
     "output_type": "stream",
     "text": [
      "0.4072006698297516\n",
      "0.4179051663128096\n",
      "[(0, 14), (1, 235), (2, 277), (3, 21), (4, 81), (5, 65), (6, 2), (7, 18), (8, 89), (9, 249), (10, 132)]\n",
      "[(0, 41), (1, 636), (2, 663), (3, 47), (4, 186), (5, 142), (6, 3), (7, 34), (8, 219), (9, 635), (10, 331)]\n",
      "[(1, 591), (2, 676), (3, 34), (4, 200), (5, 144), (6, 5), (7, 50), (8, 212), (9, 544), (10, 370)]\n",
      "[(1, 1488), (2, 1744), (3, 89), (4, 523), (5, 404), (6, 12), (7, 118), (8, 514), (9, 1354), (10, 920)]\n"
     ]
    }
   ],
   "source": [
    "percentage_undecided_with_discount = sum(map(lambda x : x > 5, unsuccessful_views_count_with_discount.values)) / len(unsuccessful_views_count_with_discount.values)\n",
    "percentage_undecided_without_discount = sum(map(lambda x : x > 5, unsuccessful_views_count.values)) / len(unsuccessful_views_count.values)\n",
    "print(percentage_undecided_without_discount)\n",
    "print(percentage_undecided_with_discount)\n",
    "print(sorted(Counter(successful_views_count_with_discount.values).items()))\n",
    "print(sorted(Counter(successful_views_count.values).items()))\n",
    "print(sorted(Counter(unsuccessful_views_count_with_discount.values).items()))\n",
    "print(sorted(Counter(unsuccessful_views_count.values).items()))"
   ]
  },
  {
   "cell_type": "code",
   "execution_count": 10,
   "metadata": {},
   "outputs": [
    {
     "name": "stdout",
     "output_type": "stream",
     "text": [
      "no mają takie same rozkłady niezależnie od zniżki i tego czy będzie zakup czy nie\n",
      "0.2950860563731604\n",
      "0.2878240892681326\n",
      "troche dziala\n"
     ]
    }
   ],
   "source": [
    "print(\"no mają takie same rozkłady niezależnie od zniżki i tego czy będzie zakup czy nie\")\n",
    "\n",
    "\n",
    "sessions_with_discount = sessions[sessions[\"offered_discount\"] != 0]\n",
    "sessions_without_discount = sessions[sessions[\"offered_discount\"] == 0]\n",
    "\n",
    "successfull_sessions_without_discount = sessions_without_discount[sessions_without_discount[\"session_id\"].isin(bought[\"session_id\"])]\n",
    "\n",
    "successful_views_count_without_discount = successfull_sessions_without_discount.groupby(\"session_id\")[\"user_id\"].agg('count') - 1\n",
    "sessions_with_discount_views_count = sessions_with_discount.groupby(\"session_id\")[\"user_id\"].agg('count') - 1\n",
    "sessions_without_discount_views_count = sessions_without_discount.groupby(\"session_id\")[\"user_id\"].agg('count') - 1\n",
    "\n",
    "percentage_successful_with_discount = len(successful_views_count_with_discount.values) / len(sessions_with_discount_views_count.values)\n",
    "percentage_successful_without_discount = len(successful_views_count_without_discount.values) / len(sessions_without_discount_views_count.values)\n",
    "print(percentage_successful_with_discount)\n",
    "print(percentage_successful_without_discount)\n",
    "print(\"troche dziala\")\n",
    "\n"
   ]
  },
  {
   "cell_type": "code",
   "execution_count": null,
   "metadata": {},
   "outputs": [],
   "source": []
  }
 ],
 "metadata": {
  "kernelspec": {
   "display_name": "Python 3",
   "language": "python",
   "name": "python3"
  },
  "language_info": {
   "codemirror_mode": {
    "name": "ipython",
    "version": 3
   },
   "file_extension": ".py",
   "mimetype": "text/x-python",
   "name": "python",
   "nbconvert_exporter": "python",
   "pygments_lexer": "ipython3",
   "version": "3.6.9"
  }
 },
 "nbformat": 4,
 "nbformat_minor": 4
}